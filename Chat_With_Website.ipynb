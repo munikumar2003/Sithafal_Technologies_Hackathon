{
  "nbformat": 4,
  "nbformat_minor": 0,
  "metadata": {
    "colab": {
      "provenance": []
    },
    "kernelspec": {
      "name": "python3",
      "display_name": "Python 3"
    },
    "language_info": {
      "name": "python"
    }
  },
  "cells": [
    {
      "cell_type": "code",
      "execution_count": 51,
      "metadata": {
        "colab": {
          "base_uri": "https://localhost:8080/"
        },
        "id": "nqZcmspi5MWI",
        "outputId": "b60c4f3c-e551-4118-a9cd-0cde8bdae655"
      },
      "outputs": [
        {
          "output_type": "stream",
          "name": "stdout",
          "text": [
            "Drive already mounted at /content/gdrive/; to attempt to forcibly remount, call drive.mount(\"/content/gdrive/\", force_remount=True).\n"
          ]
        }
      ],
      "source": [
        "import pandas as pd\n",
        "import numpy as np\n",
        "import matplotlib.pyplot as plt\n",
        "from google.colab import drive\n",
        "drive.mount('/content/gdrive/')"
      ]
    },
    {
      "cell_type": "code",
      "source": [
        "pip install requests"
      ],
      "metadata": {
        "colab": {
          "base_uri": "https://localhost:8080/"
        },
        "id": "A0DjZQ3w5rpW",
        "outputId": "b5643b6b-688a-40ac-c38c-75450bd924b5"
      },
      "execution_count": 10,
      "outputs": [
        {
          "output_type": "stream",
          "name": "stdout",
          "text": [
            "Requirement already satisfied: requests in /usr/local/lib/python3.10/dist-packages (2.32.3)\n",
            "Requirement already satisfied: charset-normalizer<4,>=2 in /usr/local/lib/python3.10/dist-packages (from requests) (3.4.0)\n",
            "Requirement already satisfied: idna<4,>=2.5 in /usr/local/lib/python3.10/dist-packages (from requests) (3.10)\n",
            "Requirement already satisfied: urllib3<3,>=1.21.1 in /usr/local/lib/python3.10/dist-packages (from requests) (2.2.3)\n",
            "Requirement already satisfied: certifi>=2017.4.17 in /usr/local/lib/python3.10/dist-packages (from requests) (2024.12.14)\n"
          ]
        }
      ]
    },
    {
      "cell_type": "code",
      "source": [
        "pip install bs4"
      ],
      "metadata": {
        "colab": {
          "base_uri": "https://localhost:8080/"
        },
        "id": "5babZ_875vMr",
        "outputId": "6646dd6b-987b-48ae-e933-ad650e33f176"
      },
      "execution_count": 3,
      "outputs": [
        {
          "output_type": "stream",
          "name": "stdout",
          "text": [
            "Collecting bs4\n",
            "  Downloading bs4-0.0.2-py2.py3-none-any.whl.metadata (411 bytes)\n",
            "Requirement already satisfied: beautifulsoup4 in /usr/local/lib/python3.10/dist-packages (from bs4) (4.12.3)\n",
            "Requirement already satisfied: soupsieve>1.2 in /usr/local/lib/python3.10/dist-packages (from beautifulsoup4->bs4) (2.6)\n",
            "Downloading bs4-0.0.2-py2.py3-none-any.whl (1.2 kB)\n",
            "Installing collected packages: bs4\n",
            "Successfully installed bs4-0.0.2\n"
          ]
        }
      ]
    },
    {
      "cell_type": "code",
      "source": [
        "import requests\n",
        "from bs4 import BeautifulSoup\n",
        "from urllib.parse import urljoin\n",
        "\n",
        "def scrape_website(url):\n",
        "    response = requests.get(url)\n",
        "    soup = BeautifulSoup(response.content, 'html.parser')\n",
        "\n",
        "    # Store all extracted content\n",
        "    scraped_data = {\"text\": [], \"tables\": [], \"images\": [], \"links\": [], \"metadata\": {}}\n",
        "\n",
        "    # Extract text content (headings, paragraphs, list items)\n",
        "    for tag in soup.find_all(['h1', 'h2', 'h3', 'h4', 'p', 'li', 'span']):\n",
        "        scraped_data['text'].append(tag.get_text(strip=True))\n",
        "\n",
        "    # Extract table data\n",
        "    for table in soup.find_all('table'):\n",
        "        table_data = []\n",
        "        for row in table.find_all('tr'):\n",
        "            cells = [cell.get_text(strip=True) for cell in row.find_all(['td', 'th'])]\n",
        "            table_data.append(cells)\n",
        "        scraped_data['tables'].append(table_data)\n",
        "\n",
        "    # Extract images\n",
        "    for img in soup.find_all('img'):\n",
        "        img_url = urljoin(url, img.get('src'))  # Handle relative URLs\n",
        "        scraped_data['images'].append(img_url)\n",
        "\n",
        "    # Extract hyperlinks\n",
        "    for link in soup.find_all('a', href=True):\n",
        "        full_url = urljoin(url, link['href'])  # Handle relative URLs\n",
        "        scraped_data['links'].append({\"text\": link.get_text(strip=True), \"url\": full_url})\n",
        "\n",
        "    for svg in soup.find_all('svg'):\n",
        "        print(svg.prettify())\n",
        "\n",
        "    # Extract metadata (title, description, keywords)\n",
        "    scraped_data['metadata']['title'] = soup.title.string if soup.title else \"\"\n",
        "    for meta in soup.find_all('meta'):\n",
        "        if meta.get('name') == 'description':\n",
        "            scraped_data['metadata']['description'] = meta.get('content', \"\")\n",
        "        if meta.get('name') == 'keywords':\n",
        "            scraped_data['metadata']['keywords'] = meta.get('content', \"\")\n",
        "\n",
        "    return scraped_data\n",
        "\n",
        "# Example usage with the given URLs\n",
        "urls = [\n",
        "    \"https://www.washington.edu/\",\n",
        "    \"https://www.stanford.edu/\",\n",
        "    \"https://und.edu/\"\n",
        "]\n",
        "\n",
        "website_data = {url: scrape_website(url) for url in urls}\n"
      ],
      "metadata": {
        "colab": {
          "base_uri": "https://localhost:8080/"
        },
        "id": "9KOdgkGz5Qsz",
        "outputId": "6db2862d-889e-49fe-e16b-f4b14488623c"
      },
      "execution_count": 64,
      "outputs": [
        {
          "output_type": "stream",
          "name": "stdout",
          "text": [
            "<svg enable-background=\"new 0 0 18.776 51.062\" focusable=\"false\" height=\"51px\" version=\"1.1\" viewbox=\"0 0 18.776 51.062\" width=\"19px\" x=\"0px\" xml:space=\"preserve\" xmlns=\"http://www.w3.org/2000/svg\" xmlns:xlink=\"http://www.w3.org/1999/xlink\" y=\"0px\">\n",
            " <g>\n",
            "  <path d=\"M3.537,7.591C3.537,3.405,6.94,0,11.128,0c4.188,0,7.595,3.406,7.595,7.591c0,4.187-3.406,7.593-7.595,7.593C6.94,15.185,3.537,11.778,3.537,7.591z M5.245,7.591c0,3.246,2.643,5.885,5.884,5.885c3.244,0,5.89-2.64,5.89-5.885c0-3.245-2.646-5.882-5.89-5.882C7.883,1.71,5.245,4.348,5.245,7.591z\" fill=\"#FFFFFF\">\n",
            "  </path>\n",
            "  <rect fill=\"#FFFFFF\" height=\"7.622\" transform=\"matrix(0.7066 0.7076 -0.7076 0.7066 11.7842 2.0922)\" width=\"1.902\" x=\"2.418\" y=\"11.445\">\n",
            "  </rect>\n",
            " </g>\n",
            " <path d=\"M3.501,47.864c0.19,0.194,0.443,0.29,0.694,0.29c0.251,0,0.502-0.096,0.695-0.29l5.691-5.691l5.692,5.691c0.192,0.194,0.443,0.29,0.695,0.29c0.25,0,0.503-0.096,0.694-0.29c0.385-0.382,0.385-1.003,0-1.388l-5.692-5.691l5.692-5.692c0.385-0.385,0.385-1.005,0-1.388c-0.383-0.385-1.004-0.385-1.389,0l-5.692,5.691L4.89,33.705c-0.385-0.385-1.006-0.385-1.389,0 c-0.385,0.383-0.385,1.003,0,1.388l5.692,5.692l-5.692,5.691C3.116,46.861,3.116,47.482,3.501,47.864z\" fill=\"#FFFFFF\">\n",
            " </path>\n",
            "</svg>\n",
            "\n",
            "<svg enable-background=\"new 0 0 15.63 69.13\" focusable=\"false\" height=\"69.13px\" version=\"1.1\" viewbox=\"0 0 15.63 69.13\" width=\"15.63px\" x=\"0px\" xml:space=\"preserve\" xmlns=\"http://www.w3.org/2000/svg\" y=\"0px\">\n",
            " <polygon fill=\"#FFFFFF\" points=\"12.8,7.776 12.803,7.773 5.424,0 3.766,1.573 9.65,7.776 3.766,13.98 5.424,15.553 12.803,7.78\">\n",
            " </polygon>\n",
            " <polygon fill=\"#FFFFFF\" points=\"9.037,61.351 9.036,61.351 14.918,55.15 13.26,53.577 7.459,59.689 1.658,53.577 0,55.15 5.882,61.351 5.882,61.351 5.884,61.353 0,67.557 1.658,69.13 7.459,63.019 13.26,69.13 14.918,67.557 9.034,61.353\">\n",
            " </polygon>\n",
            "</svg>\n",
            "\n",
            "<svg enable-background=\"new 0 0 47 47\" height=\"50px\" id=\"artsuw-svg\" version=\"1.1\" viewbox=\"0 0 47 47\" width=\"47px\" x=\"0px\" xml:space=\"preserve\" xmlns=\"http://www.w3.org/2000/svg\" xmlns:xlink=\"http://www.w3.org/1999/xlink\" y=\"0px\">\n",
            " <g>\n",
            "  <g>\n",
            "   <path d=\"M46.051,16.412l-3.881-3.881c-0.566-0.568-1.486-0.568-2.054,0c-0.821,0.821-1.918,1.276-3.082,1.276c-2.401,0-4.354-1.957-4.354-4.36c0-1.164,0.453-2.261,1.276-3.083c0.271-0.274,0.425-0.643,0.425-1.028s-0.152-0.755-0.425-1.028l-3.883-3.882c-0.565-0.567-1.485-0.567-2.053,0L0.425,28.038C0.153,28.311,0,28.68,0,29.064c0,0.387,0.152,0.754,0.425,1.028 l3.881,3.882c0.565,0.567,1.488,0.567,2.055,0c0.822-0.824,1.916-1.275,3.08-1.275c2.402,0,4.357,1.953,4.357,4.357c0,1.166-0.453,2.26-1.277,3.084c-0.271,0.273-0.426,0.644-0.426,1.028c0,0.386,0.153,0.754,0.426,1.026l3.881,3.882c0.283,0.284,0.654,0.427,1.027,0.427c0.371,0,0.742-0.143,1.026-0.427l27.595-27.61c0.272-0.272,0.426-0.642,0.426-1.028 C46.477,17.054,46.324,16.687,46.051,16.412z M34.857,25.558l-1.15-1.151c-0.567-0.567-1.487-0.567-2.055,0c-0.565,0.567-0.565,1.486,0,2.055l1.15,1.152L17.43,42.997l-1.928-1.929c0.78-1.178,1.2-2.562,1.2-4.01c0-4.006-3.258-7.265-7.262-7.265c-1.447,0-2.828,0.419-4.006,1.203l-1.928-1.931l15.375-15.384l1.149,1.152c0.283,0.284,0.656,0.428,1.027,0.428s0.742-0.144,1.027-0.428c0.565-0.568,0.565-1.486,0-2.054l-1.152-1.153l8.113-8.117 l1.928,1.93c-0.781,1.179-1.203,2.562-1.203,4.009c0,4.006,3.258,7.265,7.262,7.265c1.447,0,2.828-0.42,4.006-1.201l1.929,1.928L34.857,25.558z M26.443,17.138l-1.451-1.453c-0.565-0.567-1.487-0.567-2.055,0c-0.566,0.568-0.566,1.487,0,2.056l1.453,1.454 c0.283,0.281,0.654,0.425,1.027,0.425c0.37,0,0.741-0.144,1.024-0.425C27.012,18.626,27.012,17.706,26.443,17.138z M29.35,20.044c-0.566-0.568-1.488-0.568-2.055,0c-0.568,0.568-0.568,1.488,0,2.055l1.45,1.454c0.285,0.285,0.656,0.427,1.027,0.427s0.744-0.142,1.027-0.427c0.567-0.567,0.567-1.487,0-2.055L29.35,20.044z\" fill=\"#A3A2A3\">\n",
            "   </path>\n",
            "  </g>\n",
            " </g>\n",
            "</svg>\n",
            "\n",
            "<svg enable-background=\"new 0 0 33 46\" height=\"50px\" id=\"maps-svg\" version=\"1.1\" viewbox=\"0 0 33 46\" width=\"33px\" x=\"0px\" xml:space=\"preserve\" xmlns=\"http://www.w3.org/2000/svg\" xmlns:xlink=\"http://www.w3.org/1999/xlink\" y=\"0px\">\n",
            " <g>\n",
            "  <g>\n",
            "   <path d=\"M16.5,10.693c-3.165,0-5.741,2.558-5.741,5.705c0,3.143,2.576,5.701,5.741,5.701c3.166,0,5.74-2.558,5.74-5.701C22.24,13.251,19.663,10.693,16.5,10.693z M16.5,19.247c-1.582,0-2.871-1.277-2.871-2.849c0-1.574,1.289-2.853,2.871-2.853c1.583,0,2.87,1.279,2.87,2.853C19.368,17.97,18.083,19.247,16.5,19.247z M16.5,0C7.401,0,0,7.366,0,16.421c0,11.127,14.768,28.005,15.396,28.717c0.271,0.309,0.643,0.477,1.079,0.486 c0.412,0,0.803-0.174,1.075-0.482c0.633-0.713,15.5-17.595,15.45-28.729C32.958,7.364,25.556,0,16.5,0z M16.478,41.988 C13.089,37.897,2.868,24.86,2.868,16.421c0-7.482,6.115-13.57,13.631-13.57c7.482,0,13.595,6.091,13.63,13.578C30.168,24.857,19.884,37.9,16.478,41.988z\" fill=\"#A3A2A3\">\n",
            "   </path>\n",
            "  </g>\n",
            " </g>\n",
            "</svg>\n",
            "\n",
            "<svg enable-background=\"new 0 0 41 41\" height=\"50px\" id=\"myuw-svg\" version=\"1.1\" viewbox=\"0 0 41 41\" width=\"41px\" x=\"0px\" xml:space=\"preserve\" xmlns=\"http://www.w3.org/2000/svg\" xmlns:xlink=\"http://www.w3.org/1999/xlink\" y=\"0px\">\n",
            " <g>\n",
            "  <g>\n",
            "   <path d=\"M39.511,15.296h-4.18l-0.734-2.205l3.264-3.268c0.5-0.498,0.5-1.306,0-1.804l-5.098-5.098 c-0.496-0.499-1.303-0.499-1.801,0l-3.266,3.267l-2.205-0.734v-4.18C25.491,0.571,24.919,0,24.216,0H16.57c-0.703,0-1.275,0.571-1.275,1.274v4.18L13.09,6.19L9.824,2.923c-0.498-0.499-1.305-0.499-1.803,0L2.923,8.021c-0.498,0.498-0.498,1.307,0,1.805l3.268,3.267l-0.736,2.205h-4.18C0.572,15.297,0,15.868,0,16.571v7.647c0,0.705,0.572,1.275,1.275,1.275h4.18l0.736,2.205l-3.268,3.268c-0.498,0.498-0.498,1.304,0,1.804l5.098,5.099c0.498,0.496,1.305,0.496,1.803,0l3.266-3.269l2.205,0.734v4.182c0,0.703,0.572,1.272,1.275,1.272h7.646 c0.703,0,1.275-0.57,1.275-1.272v-4.182l2.205-0.734l3.266,3.269c0.498,0.496,1.305,0.496,1.801,0l5.098-5.099c0.5-0.5,0.5-1.306,0-1.804l-3.264-3.268l0.734-2.205h4.18c0.703,0,1.273-0.57,1.273-1.275v-7.647 C40.785,15.866,40.214,15.296,39.511,15.296z M38.235,22.944h-3.823c-0.55,0-1.035,0.351-1.209,0.872L31.93,27.64c-0.153,0.458-0.032,0.963,0.308,1.304l2.924,2.924l-3.297,3.297l-2.922-2.924c-0.342-0.342-0.847-0.461-1.306-0.308l-3.821,1.272 c-0.521,0.175-0.873,0.662-0.873,1.211v3.824h-5.099v-3.824c0-0.549-0.352-1.036-0.871-1.211l-3.824-1.272c-0.455-0.153-0.961-0.032-1.303,0.308l-2.924,2.924l-3.295-3.297l2.922-2.924c0.342-0.341,0.461-0.846,0.309-1.304l-1.275-3.823 c-0.174-0.521-0.66-0.872-1.209-0.872H2.552v-5.1h3.822c0.549,0,1.035-0.35,1.209-0.87l1.275-3.825c0.152-0.457,0.033-0.963-0.309-1.304L5.627,8.924l3.295-3.296l2.924,2.922c0.34,0.342,0.846,0.46,1.303,0.309l3.824-1.274c0.52-0.175,0.871-0.66,0.871-1.209V2.55h5.099v3.824c0,0.549,0.352,1.035,0.873,1.209l3.821,1.273 c0.459,0.153,0.964,0.034,1.306-0.308l2.922-2.922l3.297,3.296l-2.924,2.922c-0.34,0.341-0.461,0.846-0.308,1.305l1.273,3.824c0.174,0.521,0.659,0.87,1.209,0.87h3.823V22.944z M20.392,15.296c-2.811,0-5.098,2.287-5.098,5.098c0,2.812,2.287,5.101,5.098,5.101c2.812,0,5.1-2.289,5.1-5.101C25.492,17.583,23.205,15.296,20.392,15.296z M20.392,22.944c-1.404,0-2.549-1.144-2.549-2.551c0-1.404,1.145-2.549,2.549-2.549c1.406,0,2.548,1.145,2.548,2.549 C22.94,21.801,21.798,22.944,20.392,22.944z\" fill=\"#A3A2A3\">\n",
            "   </path>\n",
            "  </g>\n",
            " </g>\n",
            "</svg>\n",
            "\n",
            "<svg enable-background=\"new 0 0 48 48.255\" height=\"50px\" id=\"athletics-svg\" version=\"1.1\" viewbox=\"0 0 48 48.255\" width=\"48px\" x=\"0px\" xml:space=\"preserve\" xmlns=\"http://www.w3.org/2000/svg\" xmlns:xlink=\"http://www.w3.org/1999/xlink\" y=\"0px\">\n",
            " <path d=\"M45.548,6.95h-8.255V3.572h1.024c0.809,0,1.464-0.655,1.464-1.463s-0.655-1.463-1.464-1.463H9.681 c-0.808,0-1.463,0.655-1.463,1.463s0.655,1.463,1.463,1.463h1.356V6.95H2.452C1.65,6.95,1,7.582,1,8.383 C1,9.185,1.65,9.867,2.452,9.867h0.375c0.232,2.597,0.1,8.055,3.351,11.071c1.43,1.326,3.139,2.03,5.086,2.116 c0.901,4.638,4.53,8.377,9.254,9.673v6.399h-3.832c-0.808,0-1.463,0.656-1.463,1.464s0.655,1.464,1.463,1.464h14.626 c0.809,0,1.464-0.656,1.464-1.464s-0.655-1.464-1.464-1.464h-3.501v-6.396c4.746-1.296,8.385-5.045,9.266-9.69c1.807-0.149,3.398-0.853,4.744-2.101c3.252-3.016,3.119-8.474,3.351-11.071h0.376c0.802,0,1.451-0.682,1.451-1.483C46.999,7.582,46.35,6.95,45.548,6.95z M11.038,20.116c-1.099-0.118-2.046-0.549-2.872-1.313C5.74,16.557,5.99,12.164,5.76,9.867h5.277V20.116z M24.894,39.085h-1.458v-5.76h1.458V39.085z M34.375,20.867c0,5.206-4.58,9.44-10.21,9.44c-5.63,0-10.21-4.262-10.21-9.501V3.572h20.42V20.867z M39.834,18.803c-0.741,0.686-1.583,1.1-2.541,1.264v-10.2h4.946 C42.009,12.164,42.26,16.557,39.834,18.803z M33.314,43.746h-18.63c-0.808,0-1.463,0.656-1.463,1.464s0.655,1.464,1.463,1.464h18.63c0.809,0,1.464-0.656,1.464-1.464S34.123,43.746,33.314,43.746z\" fill=\"#A3A1A2\">\n",
            " </path>\n",
            "</svg>\n",
            "\n",
            "<svg enable-background=\"new 0 0 48 48.255\" height=\"48.255px\" id=\"social-svg\" version=\"1.1\" viewbox=\"0 0 48 48.255\" width=\"48px\" x=\"0px\" xml:space=\"preserve\" xmlns=\"http://www.w3.org/2000/svg\" xmlns:xlink=\"http://www.w3.org/1999/xlink\" y=\"0px\">\n",
            " <g>\n",
            "  <path d=\"M10.211,39.271c2.703,0,5.104-1.285,6.64-3.277l11.627,4.285c0.491,3.379,3.401,5.988,6.914,5.988 c3.857,0,6.996-3.139,6.996-6.996c0-3.854-3.139-6.993-6.996-6.993c-3.195,0-5.89,2.155-6.724,5.089L18.18,33.502 c0.272-0.826,0.425-1.707,0.425-2.623c0-1.764-0.55-3.4-1.483-4.753l12.922-7.752c1.757,1.676,4.132,2.713,6.746,2.713 c5.399,0,9.793-4.394,9.793-9.793c0-5.399-4.394-9.792-9.793-9.792c-5.398,0-9.792,4.394-9.792,9.792c0,1.771,0.479,3.427,1.304,4.861l-13.197,7.919c-1.379-0.995-3.067-1.588-4.894-1.588c-4.628,0-8.394,3.765-8.394,8.394S5.583,39.271,10.211,39.271z M35.392,35.076c2.316,0,4.196,1.883,4.196,4.195c0,2.316-1.88,4.197-4.196,4.197 c-2.314,0-4.197-1.881-4.197-4.197C31.194,36.959,33.078,35.076,35.392,35.076z M36.79,4.3c3.856,0,6.996,3.138,6.996,6.995 c0,3.857-3.14,6.995-6.996,6.995c-3.855,0-6.994-3.138-6.994-6.995C29.796,7.438,32.935,4.3,36.79,4.3z M10.211,25.284 c3.085,0,5.596,2.511,5.596,5.596c0,3.087-2.511,5.597-5.596,5.597c-3.086,0-5.596-2.51-5.596-5.597 C4.615,27.794,7.125,25.284,10.211,25.284z\" fill=\"#A3A1A2\">\n",
            "  </path>\n",
            " </g>\n",
            "</svg>\n",
            "\n",
            "<svg enable-background=\"new 0 0 44 38\" height=\"50px\" id=\"libraries-svg\" version=\"1.1\" viewbox=\"0 0 44 38\" width=\"44px\" x=\"0px\" xml:space=\"preserve\" xmlns=\"http://www.w3.org/2000/svg\" xmlns:xlink=\"http://www.w3.org/1999/xlink\" y=\"0px\">\n",
            " <g>\n",
            "  <g>\n",
            "   <path d=\"M43.164,0.391c-0.297-0.257-0.687-0.374-1.078-0.323L21.814,2.753L1.543,0.067 C1.149,0.014,0.76,0.132,0.465,0.391C0.17,0.647,0,1.02,0,1.41v32.524c0,0.679,0.506,1.253,1.184,1.343l20.451,2.709 C21.693,37.994,21.754,38,21.814,38c0.062,0,0.119-0.004,0.181-0.014l20.45-2.709c0.679-0.09,1.185-0.665,1.185-1.343V1.409 C43.629,1.02,43.459,0.647,43.164,0.391z M20.451,35.096l-17.726-2.35V2.958l17.726,2.35V35.096z M40.902,32.746l-17.725,2.35V5.308l17.725-2.35V32.746z M6.648,9.53l10.906,1.354c0.058,0.008,0.113,0.012,0.172,0.012c0.677,0,1.265-0.5,1.351-1.188c0.094-0.742-0.437-1.42-1.183-1.513L6.986,6.841c-0.745-0.096-1.43,0.434-1.522,1.177C5.371,8.759,5.902,9.438,6.648,9.53zM6.648,16.306l10.906,1.354c0.058,0.009,0.113,0.011,0.172,0.011c0.677,0,1.265-0.502,1.351-1.188 c0.094-0.742-0.437-1.419-1.183-1.512L6.986,13.615c-0.745-0.097-1.43,0.435-1.522,1.177C5.371,15.535,5.902,16.212,6.648,16.306z M6.648,23.082l10.906,1.354c0.058,0.007,0.113,0.011,0.172,0.011c0.677,0,1.265-0.502,1.351-1.188c0.094-0.742-0.437-1.42-1.183-1.514L6.986,20.392c-0.745-0.096-1.43,0.434-1.522,1.176C5.371,22.311,5.902,22.988,6.648,23.082z M6.648,29.856l10.906,1.356c0.058,0.006,0.113,0.01,0.172,0.01c0.677,0,1.265-0.501,1.351-1.188c0.094-0.742-0.437-1.42-1.183-1.513L6.986,27.168c-0.745-0.095-1.43,0.435-1.522,1.176C5.371,29.088,5.902,29.765,6.648,29.856z M25.902,10.896c0.058,0,0.115-0.003,0.173-0.012L36.982,9.53c0.746-0.093,1.275-0.771,1.185-1.513c-0.094-0.743-0.783-1.272-1.523-1.177L25.738,8.195c-0.748,0.093-1.277,0.771-1.185,1.513 C24.637,10.395,25.225,10.896,25.902,10.896z M25.902,17.671c0.058,0,0.115-0.002,0.173-0.011l10.907-1.354c0.746-0.094,1.275-0.771,1.185-1.514c-0.094-0.742-0.783-1.273-1.523-1.177l-10.905,1.356c-0.748,0.093-1.277,0.77-1.185,1.512C24.637,17.169,25.225,17.671,25.902,17.671z M25.902,24.447c0.058,0,0.115-0.003,0.173-0.011l10.907-1.354 c0.746-0.094,1.275-0.771,1.185-1.514c-0.094-0.743-0.783-1.271-1.523-1.176l-10.905,1.355c-0.748,0.092-1.277,0.771-1.185,1.512 C24.637,23.945,25.225,24.447,25.902,24.447z M25.902,31.223c0.058,0,0.115-0.004,0.173-0.01l10.907-1.356c0.746-0.092,1.275-0.769,1.185-1.513c-0.094-0.742-0.783-1.271-1.523-1.176l-10.905,1.354c-0.748,0.093-1.277,0.771-1.185,1.513C24.637,30.722,25.225,31.223,25.902,31.223z\" fill=\"#A3A2A3\">\n",
            "   </path>\n",
            "  </g>\n",
            " </g>\n",
            "</svg>\n",
            "\n",
            "<svg enable-background=\"new 0 0 55.456 55.393\" height=\"50px\" id=\"medicine-svg\" version=\"1.1\" viewbox=\"0 0 55.456 55.393\" width=\"55.456px\" x=\"0px\" xml:space=\"preserve\" xmlns=\"http://www.w3.org/2000/svg\" xmlns:xlink=\"http://www.w3.org/1999/xlink\" y=\"0px\">\n",
            " <path d=\"M24.521,16.487l-0.179-1.861c-2.177-0.068-3.986-0.393-5.488-0.873c-0.689,0.585-2.156,1.735-4.209,2.887 C17.163,17.015,20.354,17.015,24.521,16.487z M12.157,8.41c-2.44,1.281-5.333,1.69-7.548,1.788c0.612,0.816,1.231,1.616,1.926,2.361 c3.013-0.662,5.421-1.778,6.705-2.46C12.74,9.48,12.392,8.892,12.157,8.41z M13.003,6.085c0.298,0.117,0.519,0.375,0.59,0.687 c0.056,0.229,1.468,5.516,10.561,5.901l-0.005-0.045c0,0-3.191-1.409-2.82-5.714c0.371-4.304-2.82-6.976-6.456-4.675 C11.238,4.54,7.305,5.356,4.93,4.984C2.555,4.614,0.66,5.322,2.406,7.359c0.259,0.302,0.508,0.608,0.749,0.916 c2.284,0.022,6.225-0.244,8.948-2.09C12.369,6.005,12.706,5.968,13.003,6.085z M14.665,11.536c-1.067,0.607-3.363,1.78-6.397,2.601 c0.952,0.72,2.068,1.339,3.446,1.809c2.245-1.024,4.004-2.218,5.077-3.032C15.956,12.491,15.253,12.021,14.665,11.536zM38.666,12.914c1.073,0.814,2.833,2.008,5.077,3.032c1.378-0.47,2.494-1.089,3.445-1.809c-3.033-0.821-5.329-1.994-6.396-2.601C40.202,12.021,39.5,12.491,38.666,12.914z M42.216,10.099c1.284,0.682,3.692,1.798,6.705,2.459c0.695-0.745,1.314-1.544,1.926-2.361C48.632,10.1,45.738,9.69,43.299,8.41C43.063,8.892,42.715,9.48,42.216,10.099z M50.526,4.984c-2.375,0.372-6.308-0.445-9.944-2.746c-3.637-2.3-6.827,0.371-6.457,4.675c0.371,4.305-2.82,5.714-2.82,5.714l-0.004,0.045 c9.093-0.385,10.504-5.671,10.561-5.901c0.071-0.312,0.292-0.569,0.591-0.687c0.297-0.117,0.635-0.081,0.9,0.099c2.724,1.847,6.664,2.113,8.948,2.09c0.242-0.307,0.49-0.613,0.749-0.916C54.795,5.322,52.9,4.614,50.526,4.984z M31.113,14.625 l-0.179,1.861c4.167,0.528,7.358,0.528,9.876,0.153c-2.053-1.151-3.519-2.301-4.209-2.887C35.1,14.233,33.291,14.558,31.113,14.625zM34.405,20.238c-1.496-0.552-3.033-0.117-3.433,0.97c-0.401,1.087,0.486,2.415,1.981,2.967c0.55,0.203,1.105,0.271,1.608,0.224 c-0.171,1.501-1.172,3.674-5.145,5.076c-0.294,0.104-0.585,0.211-0.873,0.32l0.478-20.672c1.614-0.571,2.771-2.105,2.771-3.915c0-2.295-1.86-4.156-4.156-4.156c-2.295,0-4.156,1.86-4.156,4.156c0,1.781,1.123,3.296,2.697,3.887l0.481,20.788 c-0.361-0.14-0.727-0.277-1.099-0.408c-3.972-1.401-4.973-3.574-5.145-5.076c0.503,0.047,1.058-0.021,1.608-0.224c1.495-0.552,2.382-1.879,1.981-2.967c-0.401-1.087-1.938-1.521-3.433-0.97c-1.014,0.375-1.748,1.106-1.99,1.878c-1.825,2.864,0.278,7.31,8.133,10.178l0.169,7.312c-2.726-1.34-3.699-2.595-3.699-3.676c0-1.188,2.078-2.375,2.078-2.375 l-2.078-0.965c0,0-1.336,0.679-1.336,3.117c0,2.309,2.331,3.99,5.065,5.214l0.16,6.938c-0.66-0.439-2.332-1.708-2.332-3.32 c0-0.77,0.502-1.538,1.211-2.18l-1.148-0.566c-0.84,0.909-0.953,1.775-0.953,2.449c0,1.079,0.426,3.062,3.225,3.723l0.098,4.238c0.006,0.238,0.196,0.425,0.425,0.425s0.419-0.187,0.426-0.425l0.097-4.22c2.867-0.643,3.299-2.651,3.299-3.74 c0-0.938-0.219-2.247-2.315-3.527c6.624-3.548,5.211-6.757,1.041-9.189c6.291-2.846,7.909-6.782,6.249-9.401 C36.158,21.35,35.423,20.614,34.405,20.238z M30.532,44.539c0,1.679-1.812,2.986-2.407,3.37l0.146-6.326 C29.479,42.312,30.532,43.424,30.532,44.539z M28.314,39.721l0.158-6.803C35.22,35.547,30.322,38.671,28.314,39.721z\" fill=\"#A3A1A2\">\n",
            " </path>\n",
            "</svg>\n",
            "\n",
            "<svg xmlns:xlink=\"http://www.w3.org/1999/xlink\">\n",
            " <title>\n",
            "  Open Menu\n",
            " </title>\n",
            " <use xlink:href=\"#svgstore--menu\">\n",
            " </use>\n",
            "</svg>\n",
            "\n",
            "<svg xmlns:xlink=\"http://www.w3.org/1999/xlink\">\n",
            " <title>\n",
            "  Close Menu\n",
            " </title>\n",
            " <use xlink:href=\"#svgstore--close\">\n",
            " </use>\n",
            "</svg>\n",
            "\n",
            "<svg xmlns:xlink=\"http://www.w3.org/1999/xlink\">\n",
            " <title>\n",
            "  University of North Dakota\n",
            " </title>\n",
            " <use xlink:href=\"#svgstore--logotype\">\n",
            " </use>\n",
            "</svg>\n",
            "\n",
            "<svg xmlns:xlink=\"http://www.w3.org/1999/xlink\">\n",
            " <title>\n",
            "  Open Search\n",
            " </title>\n",
            " <use xlink:href=\"#svgstore--search\">\n",
            " </use>\n",
            "</svg>\n",
            "\n",
            "<svg xmlns:xlink=\"http://www.w3.org/1999/xlink\">\n",
            " <title>\n",
            "  Close Search\n",
            " </title>\n",
            " <use xlink:href=\"#svgstore--close\">\n",
            " </use>\n",
            "</svg>\n",
            "\n",
            "<svg xmlns:xlink=\"http://www.w3.org/1999/xlink\">\n",
            " <title>\n",
            "  University of North Dakota\n",
            " </title>\n",
            " <use xlink:href=\"#svgstore--logotype\">\n",
            " </use>\n",
            "</svg>\n",
            "\n",
            "<svg xmlns:xlink=\"http://www.w3.org/1999/xlink\">\n",
            " <title>\n",
            "  Submit\n",
            " </title>\n",
            " <use xlink:href=\"#svgstore--search\">\n",
            " </use>\n",
            "</svg>\n",
            "\n",
            "<svg xmlns:xlink=\"http://www.w3.org/1999/xlink\">\n",
            " <title>\n",
            "  University of North Dakota\n",
            " </title>\n",
            " <use xlink:href=\"#svgstore--logotype\">\n",
            " </use>\n",
            "</svg>\n",
            "\n",
            "<svg xmlns:xlink=\"http://www.w3.org/1999/xlink\">\n",
            " <title>\n",
            "  Submit\n",
            " </title>\n",
            " <use xlink:href=\"#svgstore--search\">\n",
            " </use>\n",
            "</svg>\n",
            "\n",
            "<svg xmlns:xlink=\"http://www.w3.org/1999/xlink\">\n",
            " <title>\n",
            "  Submit\n",
            " </title>\n",
            " <use xlink:href=\"#svgstore--search\">\n",
            " </use>\n",
            "</svg>\n",
            "\n",
            "<svg xmlns:xlink=\"http://www.w3.org/1999/xlink\">\n",
            " <use xlink:href=\"#svgstore--caret-down\">\n",
            " </use>\n",
            "</svg>\n",
            "\n",
            "<svg xmlns:xlink=\"http://www.w3.org/1999/xlink\">\n",
            " <title>\n",
            "  Submit\n",
            " </title>\n",
            " <use xlink:href=\"#svgstore--search\">\n",
            " </use>\n",
            "</svg>\n",
            "\n",
            "<svg xmlns:xlink=\"http://www.w3.org/1999/xlink\">\n",
            " <title>\n",
            "  Back to Top\n",
            " </title>\n",
            " <use xlink:href=\"#svgstore--back-to-top\">\n",
            " </use>\n",
            "</svg>\n",
            "\n",
            "<svg xmlns:xlink=\"http://www.w3.org/1999/xlink\">\n",
            " <title>\n",
            "  Instagram\n",
            " </title>\n",
            " <use xlink:href=\"#svgstore--social-instagram\">\n",
            " </use>\n",
            "</svg>\n",
            "\n",
            "<svg xmlns:xlink=\"http://www.w3.org/1999/xlink\">\n",
            " <title>\n",
            "  Facebook\n",
            " </title>\n",
            " <use xlink:href=\"#svgstore--social-facebook\">\n",
            " </use>\n",
            "</svg>\n",
            "\n",
            "<svg xmlns:xlink=\"http://www.w3.org/1999/xlink\">\n",
            " <title>\n",
            "  YouTube\n",
            " </title>\n",
            " <use xlink:href=\"#svgstore--social-youtube\">\n",
            " </use>\n",
            "</svg>\n",
            "\n",
            "<svg xmlns:xlink=\"http://www.w3.org/1999/xlink\">\n",
            " <title>\n",
            "  LinkedIn\n",
            " </title>\n",
            " <use xlink:href=\"#svgstore--social-linkedin\">\n",
            " </use>\n",
            "</svg>\n",
            "\n",
            "<svg xmlns:xlink=\"http://www.w3.org/1999/xlink\">\n",
            " <title>\n",
            "  X\n",
            " </title>\n",
            " <use xlink:href=\"#svgstore--social-x\">\n",
            " </use>\n",
            "</svg>\n",
            "\n",
            "<svg xmlns:xlink=\"http://www.w3.org/1999/xlink\">\n",
            " <title>\n",
            "  University of North Dakota\n",
            " </title>\n",
            " <use xlink:href=\"#svgstore--logotype\">\n",
            " </use>\n",
            "</svg>\n",
            "\n"
          ]
        }
      ]
    },
    {
      "cell_type": "code",
      "source": [
        "print(website_data)"
      ],
      "metadata": {
        "colab": {
          "base_uri": "https://localhost:8080/"
        },
        "id": "i1NIHQF16AoS",
        "outputId": "37d91f41-ad59-4612-806f-a00a9e2b1768"
      },
      "execution_count": 53,
      "outputs": [
        {
          "output_type": "stream",
          "name": "stdout",
          "text": [
            "{'https://www.washington.edu/': {'text': ['MyUW', '', 'Calendar', '', 'Directories', '', 'Libraries', '', 'UW Medicine', '', 'Maps', '', 'UW News', '', 'Helpful Links', 'Computing/IT', 'Workday HCM', 'Husky Card', 'UW Bothell', 'UW Tacoma', 'UW Facebook', 'UW Twitter', 'Students', 'Parents', 'Faculty & Staff', 'Alumni', 'AboutAbout the UWDiversityGlobal ImpactInnovationLeadershipMapsPopulation HealthSustainabilityVisit', 'About the UW', 'Diversity', 'Global Impact', 'Innovation', 'Leadership', 'Maps', 'Population Health', 'Sustainability', 'Visit', 'AcademicsAcademic calendarAcademic departmentsColleges and schoolsCourse descriptionsRegistrationStudent guideTime schedule', 'Academic calendar', 'Academic departments', 'Colleges and schools', 'Course descriptions', 'Registration', 'Student guide', 'Time schedule', 'ApplyAdmissionsFinancial AidContinuing educationMajorsStudent housingTransfer studentsTuition and feesUndocumented studentsUW Online', 'Admissions', 'Financial Aid', 'Continuing education', 'Majors', 'Student housing', 'Transfer students', 'Tuition and fees', 'Undocumented students', 'UW Online', 'News & EventsUW NewsFeatured storiesArts UWCalendarUW MagazineHusky sportsNewsletter', 'UW News', 'Featured stories', 'Arts UW', 'Calendar', 'UW Magazine', 'Husky sports', 'Newsletter', 'ResearchResearch at the UWOffice of ResearchResearch LifecycleCenters and institutesStats and rankings', 'Research at the UW', 'Office of Research', 'Research Lifecycle', 'Centers and institutes', 'Stats and rankings', 'CampusesBothellSeattleTacoma', 'Bothell', 'Seattle', 'Tacoma', 'GiveGive nowWays to giveMy UW Giving', 'Give now', 'Ways to give', 'My UW Giving', 'AboutAbout the UWDiversityGlobal ImpactInnovationLeadershipMapsPopulation HealthSustainabilityVisit', 'About the UW', 'Diversity', 'Global Impact', 'Innovation', 'Leadership', 'Maps', 'Population Health', 'Sustainability', 'Visit', 'AcademicsAcademic calendarAcademic departmentsColleges and schoolsCourse descriptionsRegistrationStudent guideTime schedule', 'Academic calendar', 'Academic departments', 'Colleges and schools', 'Course descriptions', 'Registration', 'Student guide', 'Time schedule', 'ApplyAdmissionsFinancial AidContinuing educationMajorsStudent housingTransfer studentsTuition and feesUndocumented studentsUW Online', 'Admissions', 'Financial Aid', 'Continuing education', 'Majors', 'Student housing', 'Transfer students', 'Tuition and fees', 'Undocumented students', 'UW Online', 'News & EventsUW NewsFeatured storiesArts UWCalendarUW MagazineHusky sportsNewsletter', 'UW News', 'Featured stories', 'Arts UW', 'Calendar', 'UW Magazine', 'Husky sports', 'Newsletter', 'ResearchResearch at the UWOffice of ResearchResearch LifecycleCenters and institutesStats and rankings', 'Research at the UW', 'Office of Research', 'Research Lifecycle', 'Centers and institutes', 'Stats and rankings', 'CampusesBothellSeattleTacoma', 'Bothell', 'Seattle', 'Tacoma', 'GiveGive nowWays to giveMy UW Giving', 'Give now', 'Ways to give', 'My UW Giving', 'University Of Washington', 'Featured Story Slideshow', '#UWinnovates', '#UWinnovates', 'Decoding theuniverse', '', '', 'UW astronomy undergrads are using cutting-edge coding skills to help scientists make the most of discoveries from a revolutionary new telescope.', 'Read story', '#HuskyExperience', '#HuskyExperience', 'Turning the tide', '', '', 'Chris Mantegna, ’21, is studying how pollutants affect shellfish in our food web — and training a new generation of marine scientists.', 'Read story', '#ThisIsUW', '#ThisIsUW', 'Biochemist David Baker receives Nobel Prize', '', '', 'David Baker, professor of biochemistry at the UW School of Medicine and director of the Institute for Protein Design, has been awarded the 2024 Nobel Prize in Chemistry for computational protein design.', 'Read story', '#ThisIsUW', '#ThisIsUW', 'Coming home', '', '', 'Therapist Nocona Abrams (B.A. ’19, M.S.W. ’23) returned to Washington’s Yakima Valley to improve mental health care for her community.', 'Read story', 'Be Boundless', 'ArtsUW', 'ArtsUW', 'Maps', 'Maps', 'MyUW', 'MyUW', 'Athletics', 'Athletics', 'Social', 'Social', 'Libraries', 'Libraries', 'UW Medicine', 'UW Medicine', 'News & Events', 'Ahmad Ezzeddine named UW Vice Provost for Global Affairs', '“Dr. Ezzeddine brings a rare combination of a broad global engagement perspective and a deep understanding of the landscape of higher education that will catalyze our own strategies to the benefit of the entire UW community,” said Provost Tricia Serio. “I’m thrilled to welcome him to UW.”', 'Read story', 'Huskies are bowl-bound', 'Capping a big — and BIG TEN — year, the Huskies are headed for the Tony the Tiger Sun Bowl! Join fellow fans in cheering on our favorite Dawgs against Louisville in El Paso, TX on December 31.', 'Bowl Central', 'UW professor among Nobel laureates honored in Stockholm', 'David Baker, professor of biochemistry at the UW School of Medicine in Seattle, received the 2024 Nobel Prize in Chemistry. Nobel Week wove stately traditions with imaginative recognitions.', 'Read story', 'Fast Facts', 'Fast Facts', 'Honors & Awards', 'Undergrad research', 'Rankings', 'Be boundless', 'Connect with us:', 'Facebook', 'Twitter', 'Instagram', 'YouTube', 'LinkedIn', 'Pinterest', 'Accessibility', 'Contact Us', 'Jobs', 'Campus Safety', 'My UW', 'Rules Docket', 'Privacy', 'Terms', 'Newsletter', '© 2024 University of Washington | Seattle, WA'], 'tables': [], 'images': ['https://uw-s3-cdn.s3.us-west-2.amazonaws.com/wp-content/uploads/sites/81/2024/12/16114041/ezzedine-tile.jpg', 'https://uw-s3-cdn.s3.us-west-2.amazonaws.com/wp-content/uploads/sites/81/2024/12/08120341/PSFB2024_ANNOUNCE_HOMEPAGE_377x160_SUN.jpg', 'https://uw-s3-cdn.s3.us-west-2.amazonaws.com/wp-content/uploads/sites/81/2024/12/13132715/Nobel-Prize-award-ceremony-07-Baker-accepts-award-tile.jpg', 'https://uw-s3-cdn.s3.us-west-2.amazonaws.com/wp-content/uploads/sites/81/2017/05/12131754/nobel-prize-2024.png', 'https://uw-s3-cdn.s3.us-west-2.amazonaws.com/wp-content/uploads/sites/81/2021/12/08130603/updated-research-fast-fact.png', 'https://uw-s3-cdn.s3.us-west-2.amazonaws.com/wp-content/uploads/sites/81/2019/06/23153331/Infographics-UW-website-innovative-university-2019.png'], 'links': [{'text': 'Skip to main content', 'url': 'https://www.washington.edu/#main_content'}, {'text': 'MyUW', 'url': 'https://my.uw.edu/?utm_source=quicklinks&utm_medium=click&utm_campaign=quicklinks&utm_term=myuw'}, {'text': 'Calendar', 'url': 'https://uw.edu/calendar/?utm_source=quicklinks&utm_medium=click&utm_campaign=quicklinks&utm_term=calendar'}, {'text': 'Directories', 'url': 'https://directory.uw.edu/?utm_source=quicklinks&utm_medium=click&utm_campaign=quicklinks&utm_term=directories'}, {'text': 'Libraries', 'url': 'https://lib.uw.edu/?utm_source=quicklinks&utm_medium=click&utm_campaign=quicklinks&utm_term=libraries'}, {'text': 'UW Medicine', 'url': 'https://www.uwmedicine.org/?utm_source=quicklinks&utm_medium=click&utm_campaign=quicklinks&utm_term=uwmedicine'}, {'text': 'Maps', 'url': 'https://uw.edu/maps/?utm_source=quicklinks&utm_medium=click&utm_campaign=quicklinks&utm_term=maps'}, {'text': 'UW News', 'url': 'https://uw.edu/news/?utm_source=quicklinks&utm_medium=click&utm_campaign=quicklinks&utm_term=uwnews'}, {'text': 'Computing/IT', 'url': 'https://itconnect.uw.edu/?utm_source=quicklinks&utm_medium=click&utm_campaign=quicklinks&utm_term=computingit'}, {'text': 'Workday HCM', 'url': 'https://employeehelp.workday.uw.edu/?utm_source=quicklinks&utm_medium=click&utm_campaign=quicklinks&utm_term=workdayhcm'}, {'text': 'Husky Card', 'url': 'https://hfs.uw.edu/Husky-Card-Services/?utm_source=quicklinks&utm_medium=click&utm_campaign=quicklinks&utm_term=huskycard'}, {'text': 'UW Bothell', 'url': 'https://www.uwb.edu/?utm_source=quicklinks&utm_medium=click&utm_campaign=quicklinks&utm_term=uwbothell'}, {'text': 'UW Tacoma', 'url': 'https://www.tacoma.uw.edu/?utm_source=quicklinks&utm_medium=click&utm_campaign=quicklinks&utm_term=uwtacoma'}, {'text': 'UW Facebook', 'url': 'https://www.facebook.com/UofWA?utm_source=quicklinks&utm_medium=click&utm_campaign=quicklinks&utm_term=uwfacebook'}, {'text': 'UW Twitter', 'url': 'https://twitter.com/UW?utm_source=quicklinks&utm_medium=click&utm_campaign=quicklinks&utm_term=uwtwitter'}, {'text': 'University of WashingtonUniversity of Washington', 'url': 'http://uw.edu'}, {'text': 'Students', 'url': 'http://uw.edu/studentlife'}, {'text': 'Parents', 'url': 'http://uw.edu/parents'}, {'text': 'Faculty & Staff', 'url': 'http://uw.edu/facultystaff'}, {'text': 'Alumni', 'url': 'http://uw.edu/alumni'}, {'text': 'About', 'url': 'https://www.washington.edu/about/?utm_source=whitebar&utm_medium=click&utm_campaign=about&utm_term=about'}, {'text': 'About the UW', 'url': 'https://www.washington.edu/about/?utm_source=whitebar&utm_medium=click&utm_campaign=about&utm_term=abouttheuw'}, {'text': 'Diversity', 'url': 'https://www.washington.edu/diversity/?utm_source=whitebar&utm_medium=click&utm_campaign=about&utm_term=diversity'}, {'text': 'Global Impact', 'url': 'https://www.washington.edu/global/?utm_source=whitebar&utm_medium=click&utm_campaign=about&utm_term=globalimpact'}, {'text': 'Innovation', 'url': 'https://www.washington.edu/innovation/?utm_source=whitebar&utm_medium=click&utm_campaign=about&utm_term=innovation'}, {'text': 'Leadership', 'url': 'https://www.washington.edu/leadership/?utm_source=whitebar&utm_medium=click&utm_campaign=about&utm_term=leadership'}, {'text': 'Maps', 'url': 'https://www.washington.edu/maps/?utm_source=whitebar&utm_medium=click&utm_campaign=about&utm_term=maps'}, {'text': 'Population Health', 'url': 'https://www.washington.edu/populationhealth/?utm_source=whitebar&utm_medium=click&utm_campaign=about&utm_term=populationhealth'}, {'text': 'Sustainability', 'url': 'https://sustainability.uw.edu/?utm_source=whitebar&utm_medium=click&utm_campaign=about&utm_term=sustainability'}, {'text': 'Visit', 'url': 'https://www.washington.edu/visit/?utm_source=whitebar&utm_medium=click&utm_campaign=about&utm_term=visit'}, {'text': 'Academics', 'url': 'https://www.washington.edu/about/academics/?utm_source=whitebar&utm_medium=click&utm_campaign=academics&utm_term=academics'}, {'text': 'Academic calendar', 'url': 'https://www.washington.edu/calendar/academic/?utm_source=whitebar&utm_medium=click&utm_campaign=academics&utm_term=academiccalendar'}, {'text': 'Academic departments', 'url': 'https://www.washington.edu/about/academics/departments/?utm_source=whitebar&utm_medium=click&utm_campaign=academics&utm_term=academicdepartments'}, {'text': 'Colleges and schools', 'url': 'https://www.washington.edu/about/academics/?utm_source=whitebar&utm_medium=click&utm_campaign=academics&utm_term=collegesandschools'}, {'text': 'Course descriptions', 'url': 'https://www.washington.edu/students/crscat/?utm_source=whitebar&utm_medium=click&utm_campaign=academics&utm_term=coursedescriptions'}, {'text': 'Registration', 'url': 'https://registrar.washington.edu/registration/?utm_source=whitebar&utm_medium=click&utm_campaign=academics&utm_term=registration'}, {'text': 'Student guide', 'url': 'https://www.washington.edu/students/?utm_source=whitebar&utm_medium=click&utm_campaign=academics&utm_term=studentguide'}, {'text': 'Time schedule', 'url': 'https://www.washington.edu/students/timeschd/?utm_source=whitebar&utm_medium=click&utm_campaign=academics&utm_term=timeschedule'}, {'text': 'Apply', 'url': 'https://www.washington.edu/admissions/?utm_source=whitebar&utm_medium=click&utm_campaign=apply&utm_term=apply'}, {'text': 'Admissions', 'url': 'https://www.washington.edu/admissions/?utm_source=whitebar&utm_medium=click&utm_campaign=apply&utm_term=admissions'}, {'text': 'Financial Aid', 'url': 'https://www.washington.edu/financialaid/?utm_source=whitebar&utm_medium=click&utm_campaign=apply&utm_term=financialaid'}, {'text': 'Continuing education', 'url': 'https://www.pce.uw.edu/?utm_source=whitebar&utm_medium=click&utm_campaign=apply&utm_term=continuingeducation'}, {'text': 'Majors', 'url': 'http://www.washington.edu/uaa/advising/degree-overview/majors/list-of-undergraduate-majors/?utm_source=whitebar&utm_medium=click&utm_campaign=apply&utm_term=majors'}, {'text': 'Student housing', 'url': 'https://www.washington.edu/about/housing/?utm_source=whitebar&utm_medium=click&utm_campaign=apply&utm_term=studenthousing'}, {'text': 'Transfer students', 'url': 'https://admit.washington.edu/apply/transfer/?utm_source=whitebar&utm_medium=click&utm_campaign=apply&utm_term=transferstudents'}, {'text': 'Tuition and fees', 'url': 'https://finance.uw.edu/sfs/tuition/?utm_source=whitebar&utm_medium=click&utm_campaign=apply&utm_term=tuitionandfees'}, {'text': 'Undocumented students', 'url': 'https://www.washington.edu/admissions/undocumented/?utm_source=whitebar&utm_medium=click&utm_campaign=apply&utm_term=undocumentedstudents'}, {'text': 'UW Online', 'url': 'https://www.pce.uw.edu/online?utm_source=whitebar&utm_medium=click&utm_campaign=apply&utm_term=uwonline'}, {'text': 'News & Events', 'url': 'https://www.washington.edu/news/?utm_source=whitebar&utm_medium=click&utm_campaign=news&utm_term=newsandevents'}, {'text': 'UW News', 'url': 'https://www.washington.edu/news/?utm_source=whitebar&utm_medium=click&utm_campaign=news&utm_term=uwnews'}, {'text': 'Featured stories', 'url': 'https://www.washington.edu/boundless/?utm_source=whitebar&utm_medium=click&utm_campaign=news&utm_term=boundless-stories'}, {'text': 'Arts UW', 'url': 'https://arts.washington.edu/?utm_source=whitebar&utm_medium=click&utm_campaign=news&utm_term=artsuw'}, {'text': 'Calendar', 'url': 'https://www.washington.edu/calendar/?utm_source=whitebar&utm_medium=click&utm_campaign=news&utm_term=calendar'}, {'text': 'UW Magazine', 'url': 'https://magazine.washington.edu/?utm_source=whitebar&utm_medium=click&utm_campaign=news&utm_term=uwmagazine'}, {'text': 'Husky sports', 'url': 'https://gohuskies.com/?utm_source=whitebar&utm_medium=click&utm_campaign=news&utm_term=huskysports'}, {'text': 'Newsletter', 'url': 'https://www.washington.edu/newsletter/?utm_source=whitebar&utm_medium=click&utm_campaign=news&utm_term=newsletter'}, {'text': 'Research', 'url': 'https://research.washington.edu/?utm_source=whitebar&utm_medium=click&utm_campaign=research&utm_term=research'}, {'text': 'Research at the UW', 'url': 'https://research.washington.edu/?utm_source=whitebar&utm_medium=click&utm_campaign=research&utm_term=research'}, {'text': 'Office of Research', 'url': 'https://www.washington.edu/research/?utm_source=whitebar&utm_medium=click&utm_campaign=research&utm_term=officeofresearch'}, {'text': 'Research Lifecycle', 'url': 'https://www.washington.edu/research/myresearch-lifecycle/?utm_source=whitebar&utm_medium=click&utm_campaign=research&utm_term=researchlifecycle'}, {'text': 'Centers and institutes', 'url': 'https://research.washington.edu/uw-centers-and-institutes/?utm_source=whitebar&utm_medium=click&utm_campaign=research&utm_term=centers-institutes'}, {'text': 'Stats and rankings', 'url': 'https://research.washington.edu/research-impact/?utm_source=whitebar&utm_medium=click&utm_campaign=research&utm_term=statsandrankings'}, {'text': 'Campuses', 'url': 'https://www.washington.edu/about/?utm_source=whitebar&utm_medium=click&utm_campaign=campuses&utm_term=campuses'}, {'text': 'Bothell', 'url': 'https://www.uwb.edu/?utm_source=whitebar&utm_medium=click&utm_campaign=campuses&utm_term=bothell'}, {'text': 'Seattle', 'url': 'https://www.washington.edu/about/?utm_source=whitebar&utm_medium=click&utm_campaign=campuses&utm_term=seattle'}, {'text': 'Tacoma', 'url': 'https://www.tacoma.uw.edu/?utm_source=whitebar&utm_medium=click&utm_campaign=campuses&utm_term=tacoma'}, {'text': 'Give', 'url': 'https://www.washington.edu/giving/?utm_source=whitebar&utm_medium=click&utm_campaign=give&utm_term=give'}, {'text': 'Give now', 'url': 'https://www.washington.edu/giving/make-a-gift/?utm_source=whitebar&utm_medium=click&utm_campaign=give&utm_term=givenow'}, {'text': 'Ways to give', 'url': 'https://www.washington.edu/giving/how-to-give/?utm_source=whitebar&utm_medium=click&utm_campaign=give&utm_term=waystogive'}, {'text': 'My UW Giving', 'url': 'https://myuwgiving.gifts.washington.edu/?utm_source=whitebar&utm_medium=click&utm_campaign=give&utm_term=myuwgiving'}, {'text': 'About', 'url': 'https://www.washington.edu/about/?utm_source=whitebar&utm_medium=click&utm_campaign=about&utm_term=about'}, {'text': 'About the UW', 'url': 'https://www.washington.edu/about/?utm_source=whitebar&utm_medium=click&utm_campaign=about&utm_term=abouttheuw'}, {'text': 'Diversity', 'url': 'https://www.washington.edu/diversity/?utm_source=whitebar&utm_medium=click&utm_campaign=about&utm_term=diversity'}, {'text': 'Global Impact', 'url': 'https://www.washington.edu/global/?utm_source=whitebar&utm_medium=click&utm_campaign=about&utm_term=globalimpact'}, {'text': 'Innovation', 'url': 'https://www.washington.edu/innovation/?utm_source=whitebar&utm_medium=click&utm_campaign=about&utm_term=innovation'}, {'text': 'Leadership', 'url': 'https://www.washington.edu/leadership/?utm_source=whitebar&utm_medium=click&utm_campaign=about&utm_term=leadership'}, {'text': 'Maps', 'url': 'https://www.washington.edu/maps/?utm_source=whitebar&utm_medium=click&utm_campaign=about&utm_term=maps'}, {'text': 'Population Health', 'url': 'https://www.washington.edu/populationhealth/?utm_source=whitebar&utm_medium=click&utm_campaign=about&utm_term=populationhealth'}, {'text': 'Sustainability', 'url': 'https://sustainability.uw.edu/?utm_source=whitebar&utm_medium=click&utm_campaign=about&utm_term=sustainability'}, {'text': 'Visit', 'url': 'https://www.washington.edu/visit/?utm_source=whitebar&utm_medium=click&utm_campaign=about&utm_term=visit'}, {'text': 'Academics', 'url': 'https://www.washington.edu/about/academics/?utm_source=whitebar&utm_medium=click&utm_campaign=academics&utm_term=academics'}, {'text': 'Academic calendar', 'url': 'https://www.washington.edu/calendar/academic/?utm_source=whitebar&utm_medium=click&utm_campaign=academics&utm_term=academiccalendar'}, {'text': 'Academic departments', 'url': 'https://www.washington.edu/about/academics/departments/?utm_source=whitebar&utm_medium=click&utm_campaign=academics&utm_term=academicdepartments'}, {'text': 'Colleges and schools', 'url': 'https://www.washington.edu/about/academics/?utm_source=whitebar&utm_medium=click&utm_campaign=academics&utm_term=collegesandschools'}, {'text': 'Course descriptions', 'url': 'https://www.washington.edu/students/crscat/?utm_source=whitebar&utm_medium=click&utm_campaign=academics&utm_term=coursedescriptions'}, {'text': 'Registration', 'url': 'https://registrar.washington.edu/registration/?utm_source=whitebar&utm_medium=click&utm_campaign=academics&utm_term=registration'}, {'text': 'Student guide', 'url': 'https://www.washington.edu/students/?utm_source=whitebar&utm_medium=click&utm_campaign=academics&utm_term=studentguide'}, {'text': 'Time schedule', 'url': 'https://www.washington.edu/students/timeschd/?utm_source=whitebar&utm_medium=click&utm_campaign=academics&utm_term=timeschedule'}, {'text': 'Apply', 'url': 'https://www.washington.edu/admissions/?utm_source=whitebar&utm_medium=click&utm_campaign=apply&utm_term=apply'}, {'text': 'Admissions', 'url': 'https://www.washington.edu/admissions/?utm_source=whitebar&utm_medium=click&utm_campaign=apply&utm_term=admissions'}, {'text': 'Financial Aid', 'url': 'https://www.washington.edu/financialaid/?utm_source=whitebar&utm_medium=click&utm_campaign=apply&utm_term=financialaid'}, {'text': 'Continuing education', 'url': 'https://www.pce.uw.edu/?utm_source=whitebar&utm_medium=click&utm_campaign=apply&utm_term=continuingeducation'}, {'text': 'Majors', 'url': 'http://www.washington.edu/uaa/advising/degree-overview/majors/list-of-undergraduate-majors/?utm_source=whitebar&utm_medium=click&utm_campaign=apply&utm_term=majors'}, {'text': 'Student housing', 'url': 'https://www.washington.edu/about/housing/?utm_source=whitebar&utm_medium=click&utm_campaign=apply&utm_term=studenthousing'}, {'text': 'Transfer students', 'url': 'https://admit.washington.edu/apply/transfer/?utm_source=whitebar&utm_medium=click&utm_campaign=apply&utm_term=transferstudents'}, {'text': 'Tuition and fees', 'url': 'https://finance.uw.edu/sfs/tuition/?utm_source=whitebar&utm_medium=click&utm_campaign=apply&utm_term=tuitionandfees'}, {'text': 'Undocumented students', 'url': 'https://www.washington.edu/admissions/undocumented/?utm_source=whitebar&utm_medium=click&utm_campaign=apply&utm_term=undocumentedstudents'}, {'text': 'UW Online', 'url': 'https://www.pce.uw.edu/online?utm_source=whitebar&utm_medium=click&utm_campaign=apply&utm_term=uwonline'}, {'text': 'News & Events', 'url': 'https://www.washington.edu/news/?utm_source=whitebar&utm_medium=click&utm_campaign=news&utm_term=newsandevents'}, {'text': 'UW News', 'url': 'https://www.washington.edu/news/?utm_source=whitebar&utm_medium=click&utm_campaign=news&utm_term=uwnews'}, {'text': 'Featured stories', 'url': 'https://www.washington.edu/boundless/?utm_source=whitebar&utm_medium=click&utm_campaign=news&utm_term=boundless-stories'}, {'text': 'Arts UW', 'url': 'https://arts.washington.edu/?utm_source=whitebar&utm_medium=click&utm_campaign=news&utm_term=artsuw'}, {'text': 'Calendar', 'url': 'https://www.washington.edu/calendar/?utm_source=whitebar&utm_medium=click&utm_campaign=news&utm_term=calendar'}, {'text': 'UW Magazine', 'url': 'https://magazine.washington.edu/?utm_source=whitebar&utm_medium=click&utm_campaign=news&utm_term=uwmagazine'}, {'text': 'Husky sports', 'url': 'https://gohuskies.com/?utm_source=whitebar&utm_medium=click&utm_campaign=news&utm_term=huskysports'}, {'text': 'Newsletter', 'url': 'https://www.washington.edu/newsletter/?utm_source=whitebar&utm_medium=click&utm_campaign=news&utm_term=newsletter'}, {'text': 'Research', 'url': 'https://research.washington.edu/?utm_source=whitebar&utm_medium=click&utm_campaign=research&utm_term=research'}, {'text': 'Research at the UW', 'url': 'https://research.washington.edu/?utm_source=whitebar&utm_medium=click&utm_campaign=research&utm_term=research'}, {'text': 'Office of Research', 'url': 'https://www.washington.edu/research/?utm_source=whitebar&utm_medium=click&utm_campaign=research&utm_term=officeofresearch'}, {'text': 'Research Lifecycle', 'url': 'https://www.washington.edu/research/myresearch-lifecycle/?utm_source=whitebar&utm_medium=click&utm_campaign=research&utm_term=researchlifecycle'}, {'text': 'Centers and institutes', 'url': 'https://research.washington.edu/uw-centers-and-institutes/?utm_source=whitebar&utm_medium=click&utm_campaign=research&utm_term=centers-institutes'}, {'text': 'Stats and rankings', 'url': 'https://research.washington.edu/research-impact/?utm_source=whitebar&utm_medium=click&utm_campaign=research&utm_term=statsandrankings'}, {'text': 'Campuses', 'url': 'https://www.washington.edu/about/?utm_source=whitebar&utm_medium=click&utm_campaign=campuses&utm_term=campuses'}, {'text': 'Bothell', 'url': 'https://www.uwb.edu/?utm_source=whitebar&utm_medium=click&utm_campaign=campuses&utm_term=bothell'}, {'text': 'Seattle', 'url': 'https://www.washington.edu/about/?utm_source=whitebar&utm_medium=click&utm_campaign=campuses&utm_term=seattle'}, {'text': 'Tacoma', 'url': 'https://www.tacoma.uw.edu/?utm_source=whitebar&utm_medium=click&utm_campaign=campuses&utm_term=tacoma'}, {'text': 'Give', 'url': 'https://www.washington.edu/giving/?utm_source=whitebar&utm_medium=click&utm_campaign=give&utm_term=give'}, {'text': 'Give now', 'url': 'https://www.washington.edu/giving/make-a-gift/?utm_source=whitebar&utm_medium=click&utm_campaign=give&utm_term=givenow'}, {'text': 'Ways to give', 'url': 'https://www.washington.edu/giving/how-to-give/?utm_source=whitebar&utm_medium=click&utm_campaign=give&utm_term=waystogive'}, {'text': 'My UW Giving', 'url': 'https://myuwgiving.gifts.washington.edu/?utm_source=whitebar&utm_medium=click&utm_campaign=give&utm_term=myuwgiving'}, {'text': 'Read story', 'url': 'https://www.washington.edu/boundless/decoding-the-universe-dirac/?utm_source=uwhp&utm_medium=tiles&utm_campaign=decoding-the-universe-dirac'}, {'text': 'Read story', 'url': 'https://www.washington.edu/boundless/turning-the-tide-marine-biology/?utm_source=uwhp&utm_medium=top-story&utm_campaign=fitb2-turning-the-tide'}, {'text': 'Read story', 'url': 'https://www.washington.edu/boundless/biochemist-david-baker-receives-nobel-prize/?utm_source=uwhp&utm_medium=tiles&utm_campaign=nobel-prize'}, {'text': 'Read story', 'url': 'https://magazine.washington.edu/feature/nocona-abrams-returned-to-the-yakima-valley-to-improve-mental-health-care-for-her-community/?utm_source=uwhp&utm_medium=tiles&utm_campaign=coming-home'}, {'text': 'ArtsUW', 'url': 'http://artsuw.org/'}, {'text': 'Maps', 'url': 'http://uw.edu/maps'}, {'text': 'MyUW', 'url': 'https://my.uw.edu/'}, {'text': 'Athletics', 'url': 'http://gohuskies.com'}, {'text': 'Social', 'url': 'http://uw.edu/social'}, {'text': 'Libraries', 'url': 'http://www.lib.washington.edu'}, {'text': 'UW Medicine', 'url': 'http://www.uwmedicine.org'}, {'text': 'Read story', 'url': 'https://www.washington.edu/news/2024/12/16/ahmad-ezzeddine-named-uw-vice-provost-for-global-affairs/?utm_source=uwhp&utm_medium=tiles&utm_campaign=global-affairs-vp-announcement'}, {'text': 'Bowl Central', 'url': 'https://www.washington.edu/alumni/2024bowlcentral/?utm_source=uwhp&utm_medium=tiles&utm_campaign=bowl-central-2024'}, {'text': 'Read story', 'url': 'https://newsroom.uw.edu/blog/david-baker-among-nobel-laureates-honored-in-stockholm?utm_source=uwhp&utm_medium=tiles&utm_campaign=nobel-prize-presentation'}, {'text': 'University of Washington', 'url': 'http://www.washington.edu'}, {'text': 'Be boundless', 'url': 'http://www.washington.edu/boundless/'}, {'text': 'Facebook', 'url': 'http://www.facebook.com/UofWA'}, {'text': 'Twitter', 'url': 'http://twitter.com/UW'}, {'text': 'Instagram', 'url': 'http://instagram.com/uofwa'}, {'text': 'YouTube', 'url': 'http://www.youtube.com/user/uwhuskies'}, {'text': 'LinkedIn', 'url': 'http://www.linkedin.com/company/university-of-washington'}, {'text': 'Pinterest', 'url': 'http://www.pinterest.com/uofwa/'}, {'text': 'Accessibility', 'url': 'http://www.uw.edu/accessibility'}, {'text': 'Contact Us', 'url': 'http://uw.edu/contact'}, {'text': 'Jobs', 'url': 'http://www.washington.edu/jobs'}, {'text': 'Campus Safety', 'url': 'http://www.washington.edu/safety'}, {'text': 'My UW', 'url': 'http://my.uw.edu/'}, {'text': 'Rules Docket', 'url': 'http://www.washington.edu/rules/wac'}, {'text': 'Privacy', 'url': 'http://www.washington.edu/online/privacy/'}, {'text': 'Terms', 'url': 'http://www.washington.edu/online/terms/'}, {'text': 'Newsletter', 'url': 'http://www.washington.edu/newsletter/'}], 'metadata': {'title': ' UW Homepage ', 'description': 'University of Washington'}}, 'https://www.stanford.edu/': {'text': ['Students', 'Faculty & Staff', 'Families', 'Visitors', 'Alumni', 'News', 'Events', 'Academics', 'Research', 'Health Care', 'Campus Life', 'Admission', 'About', 'Search Stanford:', 'Other ways to search:MapProfiles', 'Stanford', 'Explore Stanford', 'Main Content', 'A Societal Mission', 'Stanford was founded almost 150 years ago on a bedrock of societal purpose. Our mission is to contribute to the world by educating students for lives of leadership and contribution with integrity; advancing fundamental knowledge and cultivating creativity; leading in pioneering research for effective clinical therapies; and accelerating solutions and amplifying their impact.', 'Campus News', 'Stories about people, research, and innovation across the Farm', 'Science & Engineering', 'A national effort seeks to advance semiconductor research', 'Health & Medicine', 'Five tips for keeping winter bugs at bay', 'Health & Medicine', 'New immunotherapy platform could increase potential to target cancer cells', 'Science & Engineering', 'A new report warns of serious risks from ‘mirror life’', 'Health & Medicine', 'Flu virus remains infectious in refrigerated raw milk for up to five days, new study shows', 'Science & Engineering', 'Stanford welcomes first GPU-based supercomputer', 'Academics', 'Preparing students to make meaningful contributions to society as engaged citizens and leaders in a complex world', 'Undergraduate Education', 'Rich learning experiences that provide a broad liberal arts foundation and deep subject-area expertise', 'Rich learning experiences that provide a broad liberal arts foundation and deep subject-area expertise', 'Undergraduate Education', '', 'Graduate Education', 'Unsurpassed opportunities to participate in the advancement of entire fields of knowledge', 'Unsurpassed opportunities to participate in the advancement of entire fields of knowledge', 'Graduate education', '', 'Driving impact', 'Continuing adult education, executive and professional programs, and programs for K-12 students', 'Continuing adult education, executive and professional programs, and programs for K-12 students', 'Lifelong Learning', '', 'Seven schools in which to pursue your passions', 'Medicine', 'Law', 'Humanities & Sciences', 'Engineering', 'Education', 'Sustainability', 'Business', 'Profile of Tadashi Tokieda', '“When I ‘decided’ to become a mathematician, it was not a decision. I could not do otherwise. You don’t decide to fall in love with somebody. It just happens.”', 'Tadashi Tokieda', 'Professor (Teaching) of Mathematics', '', 'Research', 'Driving discoveries vital to our world, our health, and our intellectual life', 'Upcoming Events', 'Health Care', 'Advancing human health through innovative research, education, and care', 'Stanford Medicine', 'Leading a worldwide revolution in precision health through biomedical research, education, and clinical enterprises', 'Stanford Medicine', '', 'Stanford Health Care', 'Leveraging expertise and advanced technology\\xa0 to deliver unparalleled care for each patient’s unique needs', 'Stanford Health Care', '', 'Stanford Children’s Health', 'The only health care network in the Bay Area – and one of the few in the country – exclusively dedicated to pediatric and obstetric care', 'Stanford Children’s Health', '', 'Profile of Yannie Tan', '“I think about all the projects that students throw themselves at quarter after quarter, just really expanding and stretching their minds. … Stanford allows you to experience evolutions of yourself.”', 'Yannie Tan', 'Class of 2024', '', 'Campus Life', 'Building a vibrant community of creative and accomplished people from around the world', 'Student Life', 'A residential campus with diverse housing, exceptional dining, and over 600 student organizations', 'Student Affairs', '', 'Arts & Culture', 'A rich tradition of fostering creativity and a vibrant arts district on campus', 'Stanford Arts', '', 'Recreation & Wellness', 'State-of-the-art facilities and fitness programs to encourage movement and play', 'Recreation & Wellness', '', 'Athletics', 'Providing student-athletes the opportunity to achieve excellence both in competition and in the classroom', 'Home of Champions', 'Stanford’s 136 NCAA championships are the most for any university, a product of an unrivaled culture of excellence and continued support from the campus community', 'National Championships', '', 'Olympic Excellence', 'The Cardinal has produced at least one medalist in every Olympics in which the U.S. has competed since 1912, totaling 335 medals from 196 medalists', 'Medals', '', 'Multidimensional Impact', 'Stanford student-athletes have achieved local, national, and global impact through community involvement and advocacy', 'Athlete Stories', '', 'Admission', 'Offering extraordinary freedom to explore, to collaborate, and to challenge yourself', 'Explore the possibilities of a Stanford education as you map out your college journey.', 'We look for distinctive students who exhibit an abundance of energy and curiosity in their classes, activities, projects, research, and lives.', 'Stanford meets the full financial need of every admitted undergrad who qualifies for assistance.', 'More than two-thirds of undergrads receive some form of financial assistance. Generally, tuition is covered for families with incomes below $150,000.', 'Facebook', '', 'Facebook', 'Twitter', '', 'Twitter', 'Instagram', '', 'Instagram', 'LinkedIn', '', 'LinkedIn', 'YouTube', '', 'YouTube', 'iTunes U', '', 'iTunes U', 'Schools', 'Business', 'Education', 'Engineering', 'Humanities & Sciences', 'Law', 'Medicine', 'Sustainability', 'Academics', 'Undergraduate Majors', 'Graduate Programs', 'Research', 'Research Centers A-toZ', '-', 'to', 'Libraries', 'Health Care', 'Stanford Health Care', \"Stanford Children's Health\", 'Online Learning', 'Stanford Online', 'About Stanford', 'Facts', 'History', 'Accreditation', 'Admission', 'Undergraduate', 'Graduate', 'Financial Aid', 'Resources', 'Campus Map', 'Community Engagement', 'Directory', 'Stanford Profiles', 'Applying', 'Visiting', 'Giving', 'Careers', 'Faculty Positions', 'Contact', 'Stanford Home', 'Maps & Directions', 'Search Stanford', 'Emergency Info', 'Terms of Use', 'Privacy', 'Copyright', 'Trademarks', 'Non-Discrimination', 'Accessibility', '©CopyrightStanford University.Stanford,California94305.', '©', 'Copyright', 'Stanford University', 'Stanford,California94305.', 'Stanford', 'California', '94305'], 'tables': [], 'images': ['data:image/gif;base64,R0lGODlhAQABAIAAAAAAAP///yH5BAEAAAAALAAAAAABAAEAAAIBRAA7', 'data:image/gif;base64,R0lGODlhAQABAIAAAAAAAP///yH5BAEAAAAALAAAAAABAAEAAAIBRAA7', 'data:image/gif;base64,R0lGODlhAQABAIAAAAAAAP///yH5BAEAAAAALAAAAAABAAEAAAIBRAA7', 'data:image/gif;base64,R0lGODlhAQABAIAAAAAAAP///yH5BAEAAAAALAAAAAABAAEAAAIBRAA7', 'data:image/gif;base64,R0lGODlhAQABAIAAAAAAAP///yH5BAEAAAAALAAAAAABAAEAAAIBRAA7', 'data:image/gif;base64,R0lGODlhAQABAIAAAAAAAP///yH5BAEAAAAALAAAAAABAAEAAAIBRAA7', 'data:image/gif;base64,R0lGODlhAQABAIAAAAAAAP///yH5BAEAAAAALAAAAAABAAEAAAIBRAA7', 'data:image/gif;base64,R0lGODlhAQABAIAAAAAAAP///yH5BAEAAAAALAAAAAABAAEAAAIBRAA7', 'data:image/gif;base64,R0lGODlhAQABAIAAAAAAAP///yH5BAEAAAAALAAAAAABAAEAAAIBRAA7', 'data:image/gif;base64,R0lGODlhAQABAIAAAAAAAP///yH5BAEAAAAALAAAAAABAAEAAAIBRAA7', 'data:image/gif;base64,R0lGODlhAQABAIAAAAAAAP///yH5BAEAAAAALAAAAAABAAEAAAIBRAA7', 'https://www.stanford.edu/wp-content/uploads/2024/08/Tadashi-homesite-profile-240x240.png', 'data:image/gif;base64,R0lGODlhAQABAIAAAAAAAP///yH5BAEAAAAALAAAAAABAAEAAAIBRAA7', 'data:image/gif;base64,R0lGODlhAQABAIAAAAAAAP///yH5BAEAAAAALAAAAAABAAEAAAIBRAA7', 'data:image/gif;base64,R0lGODlhAQABAIAAAAAAAP///yH5BAEAAAAALAAAAAABAAEAAAIBRAA7', 'data:image/gif;base64,R0lGODlhAQABAIAAAAAAAP///yH5BAEAAAAALAAAAAABAAEAAAIBRAA7', 'https://www.stanford.edu/wp-content/uploads/2024/08/yannie-240x240.png', 'data:image/gif;base64,R0lGODlhAQABAIAAAAAAAP///yH5BAEAAAAALAAAAAABAAEAAAIBRAA7', 'data:image/gif;base64,R0lGODlhAQABAIAAAAAAAP///yH5BAEAAAAALAAAAAABAAEAAAIBRAA7', 'data:image/gif;base64,R0lGODlhAQABAIAAAAAAAP///yH5BAEAAAAALAAAAAABAAEAAAIBRAA7', 'data:image/gif;base64,R0lGODlhAQABAIAAAAAAAP///yH5BAEAAAAALAAAAAABAAEAAAIBRAA7', 'data:image/gif;base64,R0lGODlhAQABAIAAAAAAAP///yH5BAEAAAAALAAAAAABAAEAAAIBRAA7', 'data:image/gif;base64,R0lGODlhAQABAIAAAAAAAP///yH5BAEAAAAALAAAAAABAAEAAAIBRAA7', 'data:image/gif;base64,R0lGODlhAQABAIAAAAAAAP///yH5BAEAAAAALAAAAAABAAEAAAIBRAA7', 'data:image/gif;base64,R0lGODlhAQABAIAAAAAAAP///yH5BAEAAAAALAAAAAABAAEAAAIBRAA7'], 'links': [{'text': 'Skip to content', 'url': 'https://www.stanford.edu/#main-content'}, {'text': 'Stanford University', 'url': 'https://www.stanford.edu/'}, {'text': 'Students', 'url': 'https://www.stanford.edu/student-gateway/'}, {'text': 'Faculty & Staff', 'url': 'https://www.stanford.edu/faculty-staff-gateway/'}, {'text': 'Families', 'url': 'http://parents.stanford.edu/'}, {'text': 'Visitors', 'url': 'https://visit.stanford.edu'}, {'text': 'Alumni', 'url': 'http://alumni.stanford.edu/'}, {'text': 'News', 'url': 'https://www.stanford.edu/news/'}, {'text': 'Events', 'url': 'https://www.stanford.edu/events/'}, {'text': 'Academics', 'url': 'https://www.stanford.edu/academics/'}, {'text': 'Research', 'url': 'https://www.stanford.edu/research/'}, {'text': 'Health Care', 'url': 'https://www.stanford.edu/health-care/'}, {'text': 'Campus Life', 'url': 'https://www.stanford.edu/campus-life/'}, {'text': 'Admission', 'url': 'https://www.stanford.edu/admission/'}, {'text': 'About', 'url': 'https://www.stanford.edu/about/'}, {'text': 'Map', 'url': 'https://campus-map.stanford.edu/'}, {'text': 'Profiles', 'url': 'https://profiles.stanford.edu/'}, {'text': 'Explore Stanford', 'url': 'https://www.stanford.edu/#main-content'}, {'text': 'More about Stanford', 'url': 'https://www.stanford.edu/about/'}, {'text': '', 'url': 'https://news.stanford.edu/stories/2024/12/the-future-of-chips-how-a-national-effort-seeks-to-advance-semiconductor-research'}, {'text': 'A national effort seeks to advance semiconductor research', 'url': 'https://news.stanford.edu/stories/2024/12/the-future-of-chips-how-a-national-effort-seeks-to-advance-semiconductor-research'}, {'text': '', 'url': 'https://news.stanford.edu/stories/2024/12/five-tips-for-keeping-winter-bugs-at-bay'}, {'text': 'Five tips for keeping winter bugs at bay', 'url': 'https://news.stanford.edu/stories/2024/12/five-tips-for-keeping-winter-bugs-at-bay'}, {'text': '', 'url': 'https://news.stanford.edu/stories/2024/12/new-immunotherapy-platform-could-increase-potential-to-target-cancer-cells'}, {'text': 'New immunotherapy platform could increase potential to target cancer cells', 'url': 'https://news.stanford.edu/stories/2024/12/new-immunotherapy-platform-could-increase-potential-to-target-cancer-cells'}, {'text': '', 'url': 'https://news.stanford.edu/stories/2024/12/potential-risks-of-mirror-life'}, {'text': 'A new report warns of serious risks from ‘mirror life’', 'url': 'https://news.stanford.edu/stories/2024/12/potential-risks-of-mirror-life'}, {'text': '', 'url': 'https://news.stanford.edu/stories/2024/12/stanford-study-reveals-flu-virus-remains-infectious-in-refrigerated-raw-milk'}, {'text': 'Flu virus remains infectious in refrigerated raw milk for up to five days, new study shows', 'url': 'https://news.stanford.edu/stories/2024/12/stanford-study-reveals-flu-virus-remains-infectious-in-refrigerated-raw-milk'}, {'text': '', 'url': 'https://news.stanford.edu/stories/2024/12/stanford-welcomes-first-gpu-based-supercomputer'}, {'text': 'Stanford welcomes first GPU-based supercomputer', 'url': 'https://news.stanford.edu/stories/2024/12/stanford-welcomes-first-gpu-based-supercomputer'}, {'text': 'More campus news', 'url': 'https://news.stanford.edu/'}, {'text': 'Undergraduate Education', 'url': 'https://undergrad.stanford.edu/'}, {'text': 'Graduate education', 'url': 'https://vpge.stanford.edu/'}, {'text': 'Lifelong Learning', 'url': 'https://lifelonglearning.stanford.edu/'}, {'text': 'Medicine', 'url': 'http://med.stanford.edu/'}, {'text': 'Law', 'url': 'http://www.law.stanford.edu/'}, {'text': 'Humanities & Sciences', 'url': 'http://humsci.stanford.edu/'}, {'text': 'Engineering', 'url': 'http://engineering.stanford.edu/'}, {'text': 'Education', 'url': 'http://ed.stanford.edu/'}, {'text': 'Sustainability', 'url': 'https://sustainability.stanford.edu/'}, {'text': 'Business', 'url': 'http://gsb.stanford.edu/'}, {'text': 'More about academics', 'url': 'https://www.stanford.edu/academics'}, {'text': 'More', 'url': 'https://news.stanford.edu/stories/2024/05/meet-our-faculty-tadashi-tokieda'}, {'text': 'More about research', 'url': 'https://www.stanford.edu/research'}, {'text': 'More events', 'url': 'http://events.stanford.edu'}, {'text': 'Stanford Medicine', 'url': 'https://med.stanford.edu/'}, {'text': 'Stanford Health Care', 'url': 'https://stanfordhealthcare.org/'}, {'text': 'Stanford Children’s Health', 'url': 'https://stanfordchildrens.org/'}, {'text': 'More about health care', 'url': 'https://www.stanford.edu/health-care/'}, {'text': 'More', 'url': 'https://news.stanford.edu/stories/2024/05/blending-disciplines-for-a-more-colorful-world'}, {'text': 'Student Affairs', 'url': 'http://studentaffairs.stanford.edu/'}, {'text': 'Stanford Arts', 'url': 'http://arts.stanford.edu/'}, {'text': 'Recreation & Wellness', 'url': 'https://rec.stanford.edu/'}, {'text': 'More about campus life', 'url': 'https://www.stanford.edu/campus-life/'}, {'text': 'National Championships', 'url': 'https://gostanford.com/sports/2017/5/22/home-of-champions.aspx'}, {'text': 'Medals', 'url': 'https://gostanford.com/news/2023/5/25/athletics-stanford-olympic-history.aspx'}, {'text': 'Athlete Stories', 'url': 'https://gostanford.com/sports/featured'}, {'text': 'More about athletics', 'url': 'https://gostanford.com/'}, {'text': 'More about admission', 'url': 'https://www.stanford.edu/admission'}, {'text': 'Facebook', 'url': 'https://www.facebook.com/stanford'}, {'text': 'Twitter', 'url': 'https://twitter.com/stanford'}, {'text': 'Instagram', 'url': 'https://www.instagram.com/stanford/'}, {'text': 'LinkedIn', 'url': 'https://www.linkedin.com/school/stanford-university/'}, {'text': 'YouTube', 'url': 'https://www.youtube.com/stanford'}, {'text': 'iTunes U', 'url': 'https://podcasts.apple.com/us/artist/stanford/1280771285'}, {'text': 'Business', 'url': 'https://www.gsb.stanford.edu/'}, {'text': 'Education', 'url': 'https://ed.stanford.edu/'}, {'text': 'Engineering', 'url': 'https://engineering.stanford.edu/'}, {'text': 'Humanities & Sciences', 'url': 'https://humsci.stanford.edu/'}, {'text': 'Law', 'url': 'https://law.stanford.edu/'}, {'text': 'Medicine', 'url': 'https://med.stanford.edu/'}, {'text': 'Sustainability', 'url': 'https://sustainability.stanford.edu/'}, {'text': 'Undergraduate Majors', 'url': 'https://majors.stanford.edu/majors'}, {'text': 'Graduate Programs', 'url': 'https://gradadmissions.stanford.edu/explore-programs'}, {'text': 'Research Centers A-toZ', 'url': 'https://www.stanford.edu/list/research/'}, {'text': 'Libraries', 'url': 'http://library.stanford.edu/'}, {'text': 'Stanford Health Care', 'url': 'https://stanfordhealthcare.org/'}, {'text': \"Stanford Children's Health\", 'url': 'https://www.stanfordchildrens.org/'}, {'text': 'Stanford Online', 'url': 'https://online.stanford.edu/'}, {'text': 'Facts', 'url': 'https://facts.stanford.edu/'}, {'text': 'History', 'url': 'https://www.stanford.edu/about/history'}, {'text': 'Accreditation', 'url': 'https://wasc.stanford.edu/'}, {'text': 'Undergraduate', 'url': 'https://admission.stanford.edu/'}, {'text': 'Graduate', 'url': 'https://gradadmissions.stanford.edu'}, {'text': 'Financial Aid', 'url': 'https://financialaid.stanford.edu/'}, {'text': 'Campus Map', 'url': 'https://campus-map.stanford.edu/'}, {'text': 'Community Engagement', 'url': 'https://community.stanford.edu/'}, {'text': 'Directory', 'url': 'https://stanfordwho.stanford.edu/'}, {'text': 'Stanford Profiles', 'url': 'https://profiles.stanford.edu/'}, {'text': 'Applying', 'url': 'https://www.stanford.edu/admission'}, {'text': 'Visiting', 'url': 'https://visit.stanford.edu/'}, {'text': 'Giving', 'url': 'https://giving.stanford.edu/'}, {'text': 'Careers', 'url': 'https://careersearch.stanford.edu/'}, {'text': 'Faculty Positions', 'url': 'http://facultypositions.stanford.edu/'}, {'text': 'Contact', 'url': 'https://www.stanford.edu/contact'}, {'text': 'StanfordUniversity', 'url': 'https://www.stanford.edu/'}, {'text': 'Stanford Home', 'url': 'https://www.stanford.edu/'}, {'text': 'Maps & Directions', 'url': 'https://visit.stanford.edu/plan/'}, {'text': 'Search Stanford', 'url': 'https://www.stanford.edu/search/'}, {'text': 'Emergency Info', 'url': 'https://emergency.stanford.edu/'}, {'text': 'Terms of Use', 'url': 'https://www.stanford.edu/site/terms/'}, {'text': 'Privacy', 'url': 'https://www.stanford.edu/site/privacy'}, {'text': 'Copyright', 'url': 'https://uit.stanford.edu/security/copyright-infringement'}, {'text': 'Trademarks', 'url': 'https://adminguide.stanford.edu/chapter-1/subchapter-5/policy-1-5-4'}, {'text': 'Non-Discrimination', 'url': 'https://studentservices.stanford.edu/more-resources/student-policies/non-academic/non-discrimination'}, {'text': 'Accessibility', 'url': 'https://www.stanford.edu/site/accessibility/'}], 'metadata': {'title': 'Stanford University', 'description': \"One of the world's leading research and teaching institutions. Catalyzing discovery, accelerating solutions, sustaining life on Earth, and preparing students for active citizenship.\"}}, 'https://und.edu/': {'text': ['Open Menu', 'Close Menu', 'University of North Dakota', 'Open Search', 'Close Search', 'University of North Dakota', 'Info ForAdmitted StudentsCurrent\\xa0StudentsFamilies of Current StudentsFaculty & StaffAlumni', '', 'Admitted Students', 'Current\\xa0Students', 'Families of Current Students', 'Faculty & Staff', 'Alumni', 'LoginsEmailBlackboardCampus ConnectionEmployee Self-ServiceHawk CentralDegree MapZoom', '', 'Email', 'Blackboard', 'Campus Connection', 'Employee Self-Service', 'Hawk Central', 'Degree Map', 'Zoom', 'Directory', 'SearchSearchSubmit', 'Search', '', 'Submit', 'Academics', 'Admissions', 'Student Life', 'Research', 'Athletics', 'Majors & Programs', 'About', 'Menu', '', 'University of North Dakota', 'Academics', 'Admissions', 'Student Life', 'Research', 'Athletics', 'Majors & Programs', 'About', 'Request Info', 'Visit', 'Apply', 'Search', '', 'Submit', 'Request Info', 'Visit', 'Apply', 'Submit', '', 'University of North Dakota', 'Leaders can come from anywhere,', 'Apply', 'Request Info', 'Visit', 'Majors &Programs', 'Programs', \"The University of North Dakota is the state's oldest and largest university. We offer\\n                           225+ highly accredited on-campus and online degrees.\", 'Criminal Justice', 'Explore the causes and impact of criminal behavior and prepare to play a key role\\n                                    in criminal justice.', 'Elementary Education', 'Immerse yourself in teaching and prepare for a rewarding career educating grades 1-8.', 'Unmanned Aircraft Systems Operations', 'Join a UAS ecosystem that puts you on the cutting edge of what’s next in the industry.', 'Data Science', \"A high-demand field, you'll drive positive business decisions with meaningful data.\", 'Submit', 'Undergraduate', 'Graduate & Professional', 'Online & Off-Campus', '', 'Aerospace & Aviation', 'Arts & Science', 'Business', 'Education', 'Engineering', 'Medicine, Nursing & Health', 'Leaders inAction', 'Leaders in', 'Our students embark on a journey to become leaders. Not just in what they say, but\\n                           what they do. Through hard work and determination, we believe in work worth doing.', 'Kétina François', 'Student has dream of being like the music teachers that inspired her.', 'McKenzie Moe', 'Online learning option is perfect for student living in western North Dakota.', 'Chase Garber', 'After facing personal challenges, a student returns to school to help others heal\\n                                    and thrive.', 'All BelongAt UND', 'At UND', 'We value diverse peoples, perspectives and ideas. We take active steps to ensure a\\n                           sense of belonging and equity for all.', 'You Are Welcome Here', 'The University of North Dakota values, honors, and supports all members of our campus\\n                                    community.', 'Military Friendly', '1 in 7 UND students are veterans, active duty, spouses, or military dependents.', 'Raising Awareness', 'The Clothesline Project and Take Back the Night Rally educate and bring awareness\\n                                    to interpersonal violence.', 'Access for All', 'We provide qualified students with disabilities an equal opportunity to participate\\n                                    in all UND activities.', 'We are#undproud', 'We are', '#undproud', 'Proud to be a Fighting Hawk? Use #UNDproud to be featured. Content is moderated.', 'BestValue College', 'Value College', 'UND consistently ranks among the best for educational quality, affordability and career\\n                        outcomes', 'By clicking any link on this page you are giving your consent for us\\n        to set cookies,Privacy Information.', 'Back to Top', 'Readyto Enroll?', 'to Enroll?', 'Request Information', 'Schedule a Visit', 'Apply Now', 'UND.info@UND.edu', '701.777.3000', 'Instagram', 'Instagram', 'Facebook', 'Facebook', 'YouTube', 'YouTube', 'LinkedIn', 'LinkedIn', 'X', 'X', 'Contact UND', 'Campus Map', 'Events Calendar', 'Diversity & Inclusion', 'Explore Programs', 'Employment', 'Make a Gift', 'Campus Safety (SafeUND)', 'University of North Dakota', '©2024 University of North Dakota - Grand Forks, ND - Member of ND University System', '©', 'Accessibility & Website Feedback', 'Terms of Use & Privacy', 'Notice of Nondiscrimination', 'Student Disclosure Information', 'Title IX'], 'tables': [], 'images': ['https://und.edu/_files/images/homepage/home-header/_mobile/240223-law-062.webp', 'https://und.edu/_files/images/homepage/home-programs/criminal-justice-220914-0543-majors.jpg', 'https://und.edu/_files/images/homepage/home-programs/elementary-education-240216-reading-044-majors.webp', 'https://und.edu/_files/images/homepage/home-programs/uas-220404-010-mobile.jpg', 'https://und.edu/_files/images/homepage/home-programs/cyber-security-data-science-221024-majors-9552.webp', 'https://und.edu/leaders/_files/ketina-francois/240909-ketina-006-home.webp', 'https://und.edu/leaders/_files/mckenzie-moe/241029-mckenzie-113-home.jpg', 'https://und.edu/leaders/_files/chase-garber/240917-chase-005-home.webp', 'https://und.edu/_files/images/homepage/dei/220914-brannon-014.jpg', 'https://und.edu/_files/images/homepage/dei/210910-911-memorial-5348.jpg', 'https://und.edu/_files/images/homepage/dei/211011-clothesline-project-3439.jpg', 'https://und.edu/_files/images/homepage/dei/dss-slider-230228.jpg', 'https://und.edu/_files/images/homepage/best-value-college-mascot-head-768x960.png'], 'links': [{'text': 'Skip to main content', 'url': 'https://und.edu/#main-content'}, {'text': 'University of North Dakota', 'url': 'https://und.edu'}, {'text': 'University of North Dakota', 'url': 'https://und.edu'}, {'text': 'Admitted Students', 'url': 'https://und.edu/admissions/admitted-students/index.html'}, {'text': 'Current\\xa0Students', 'url': 'https://und.edu/info-for-current.html'}, {'text': 'Families of Current Students', 'url': 'https://und.edu/info-for-families.html'}, {'text': 'Faculty & Staff', 'url': 'https://campus.und.edu/'}, {'text': 'Alumni', 'url': 'https://undalumni.org/'}, {'text': 'Email', 'url': 'https://login.microsoftonline.com/'}, {'text': 'Blackboard', 'url': 'https://blackboard.und.edu'}, {'text': 'Campus Connection', 'url': 'https://studentadmin.connectnd.us/NDCSPRD/signon.html'}, {'text': 'Employee Self-Service', 'url': 'https://prd.hcm.ndus.edu/psp/hehp/?cmd=login'}, {'text': 'Hawk Central', 'url': 'https://und.inspire.civitaslearning.com/login'}, {'text': 'Degree Map', 'url': 'https://unddm.civitaslearning.com/'}, {'text': 'Zoom', 'url': 'https://und.zoom.us/'}, {'text': 'Directory', 'url': 'https://campus.und.edu/directory/index.html'}, {'text': 'Academics', 'url': 'https://und.edu/academics/index.html'}, {'text': 'Admissions', 'url': 'https://und.edu/admissions/index.html'}, {'text': 'Student Life', 'url': 'https://und.edu/student-life/index.html'}, {'text': 'Research', 'url': 'https://und.edu/research/index.html'}, {'text': 'Athletics', 'url': 'https://fightinghawks.com/'}, {'text': 'Majors & Programs', 'url': 'https://und.edu/programs/index.html'}, {'text': 'About', 'url': 'https://und.edu/about/index.html'}, {'text': 'University of North Dakota', 'url': 'https://und.edu'}, {'text': 'Academics', 'url': 'https://und.edu/academics/index.html'}, {'text': 'Admissions', 'url': 'https://und.edu/admissions/index.html'}, {'text': 'Student Life', 'url': 'https://und.edu/student-life/index.html'}, {'text': 'Research', 'url': 'https://und.edu/research/index.html'}, {'text': 'Athletics', 'url': 'https://fightinghawks.com/'}, {'text': 'Majors & Programs', 'url': 'https://und.edu/programs/index.html'}, {'text': 'About', 'url': 'https://und.edu/about/index.html'}, {'text': 'Request Info', 'url': 'https://und.edu/admissions/request-info-form.html'}, {'text': 'Visit', 'url': 'https://und.edu/admissions/visit/index.html'}, {'text': 'Apply', 'url': 'https://und.edu/admissions/apply.html'}, {'text': 'Request Info', 'url': 'https://und.edu/admissions/request-info-form.html'}, {'text': 'Visit', 'url': 'https://und.edu/admissions/visit/index.html'}, {'text': 'Apply', 'url': 'https://und.edu/admissions/apply.html'}, {'text': 'Lead Your Own Way', 'url': 'https://und.edu/#goals'}, {'text': 'Apply', 'url': 'https://und.edu/admissions/apply.html'}, {'text': 'Request Info', 'url': 'https://und.edu/admissions/request-info-form.html'}, {'text': 'Visit', 'url': 'https://und.edu/admissions/visit/index.html'}, {'text': 'Criminal Justice', 'url': 'https://und.edu/programs/criminal-justice-studies-bs/index.html'}, {'text': 'Elementary Education', 'url': 'https://und.edu/programs/elementary-education-bsed/index.html'}, {'text': 'UAS Operations', 'url': 'https://und.edu/programs/unmanned-aircraft-system-operations-bs-aero/index.html'}, {'text': 'Data Science', 'url': 'https://und.edu/programs/data-science-bs/index.html'}, {'text': 'Undergraduate', 'url': 'https://und.edu/programs/index.html?search=&locations=on-campus,offcampus,online&filter.program-type=Major,PreProfessionalProgram,Minor,CertificatesProgramsUndergraduate,CourseforCollegeCredit,AcceleratedBachelorsandMasters'}, {'text': 'Graduate & Professional', 'url': 'https://und.edu/programs/index.html?search=&locations=on-campus,offcampus,online&filter.program-type=CertificateGraduate,DoctoralDegree,MastersDegree,LawDegree,MedicalDegree,AcceleratedBachelorsandMasters'}, {'text': 'Online & Off-Campus', 'url': 'https://und.edu/programs/index.html?search=&locations=offcampus,online'}, {'text': 'Aerospace & Aviation', 'url': 'https://und.edu/programs/index.html?search=aerospace&locations=on-campus,offcampus,online'}, {'text': 'Arts & Science', 'url': 'https://und.edu/programs/index.html?search=college:%20arts&locations=on-campus,offcampus,online'}, {'text': 'Business', 'url': 'https://und.edu/programs/index.html?search=business&locations=on-campus,offcampus,online'}, {'text': 'Education', 'url': 'https://und.edu/programs/index.html?search=college:%20education&locations=on-campus,offcampus,online'}, {'text': 'Engineering', 'url': 'https://und.edu/programs/index.html?search=&locations=on-campus,offcampus,online&filter.field-of-study=Engineering'}, {'text': 'Medicine, Nursing & Health', 'url': 'https://und.edu/programs/index.html?search=&locations=on-campus,offcampus,online&filter.field-of-study=MedicineandHealth'}, {'text': 'Meet Kétina', 'url': 'https://und.edu/leaders/ketina-francois.html'}, {'text': 'Meet McKenzie', 'url': 'https://und.edu/leaders/mckenzie-moe.html'}, {'text': 'Meet Chase', 'url': 'https://und.edu/leaders/chase-garber.html'}, {'text': 'Student Support and Services', 'url': 'https://und.edu/student-life/diversity/index.html'}, {'text': 'Veteran & Military Services', 'url': 'https://und.edu/student-life/military/index.html'}, {'text': 'Event Information', 'url': 'https://und.edu/student-life/violence/clothesline-project.html'}, {'text': 'Disability Resources', 'url': 'https://und.edu/student-life/student-disability-resources/index.html'}, {'text': 'UND NEWS', 'url': 'https://blogs.und.edu/und-today/'}, {'text': 'More #UNDproud', 'url': 'https://und.edu/social-media/'}, {'text': 'Estimate Cost', 'url': 'https://und.edu/admissions/cost-and-aid/cost.html'}, {'text': 'Privacy Information', 'url': 'https://und.edu/about/terms-of-use.html#privacy'}, {'text': 'Request Information', 'url': 'https://und.edu/admissions/request-info-form.html'}, {'text': 'Schedule a Visit', 'url': 'https://und.edu/admissions/visit/index.html'}, {'text': 'Apply Now', 'url': 'https://und.edu/admissions/apply.html'}, {'text': 'UND.info@UND.edu', 'url': 'mailto:UND.info@UND.edu?subject='}, {'text': '701.777.3000', 'url': 'tel:+17017773000'}, {'text': 'Instagram', 'url': 'https://www.instagram.com/uofnorthdakota/'}, {'text': 'Facebook', 'url': 'https://www.facebook.com/UofNorthDakota'}, {'text': 'YouTube', 'url': 'https://www.youtube.com/user/UofNorthDakota'}, {'text': 'LinkedIn', 'url': 'https://www.linkedin.com/school/9200/'}, {'text': 'X', 'url': 'https://twitter.com/UofNorthDakota'}, {'text': 'Contact UND', 'url': 'https://und.edu/about/contact-us.html'}, {'text': 'Campus Map', 'url': 'https://und.edu/map/index.html'}, {'text': 'Events Calendar', 'url': 'https://calendar.und.edu/'}, {'text': 'Diversity & Inclusion', 'url': 'https://und.edu/student-life/diversity/index.html'}, {'text': 'Explore Programs', 'url': 'https://und.edu/programs/index.html'}, {'text': 'Employment', 'url': 'https://campus.und.edu/human-resources/careers/index.html'}, {'text': 'Make a Gift', 'url': 'https://undalumni.org/'}, {'text': 'Campus Safety (SafeUND)', 'url': 'https://campus.und.edu/safety/safeund/index.html'}, {'text': 'University of North Dakota', 'url': 'https://und.edu'}, {'text': 'Accessibility & Website Feedback', 'url': 'https://und.edu/about/website-feedback.html'}, {'text': 'Terms of Use & Privacy', 'url': 'https://und.edu/about/terms-of-use.html'}, {'text': 'Notice of Nondiscrimination', 'url': 'https://campus.und.edu/equal-opportunity/required-notices.html#notice-of-nondiscrimination'}, {'text': 'Student Disclosure Information', 'url': 'https://und.edu/about/student-disclosure-information/index.html'}, {'text': 'Title IX', 'url': 'https://campus.und.edu/equal-opportunity/index.html'}, {'text': '©', 'url': 'https://a.cms.omniupdate.com/11/?skin=und&account=UND&site=und&action=de&path=/index.pcf'}], 'metadata': {'title': 'UND | Grand Forks, ND | University of North Dakota'}}}\n"
          ]
        }
      ]
    },
    {
      "cell_type": "code",
      "source": [
        "def prepare_chunks(scraped_data, chunk_size=500):\n",
        "    combined_content = []\n",
        "\n",
        "    # Combine all text content\n",
        "    combined_content.extend(scraped_data['text'])\n",
        "\n",
        "    # Convert table data into text\n",
        "    for table in scraped_data['tables']:\n",
        "        table_text = \"\\n\".join([\" | \".join(row) for row in table])\n",
        "        combined_content.append(table_text)\n",
        "\n",
        "    # Add metadata\n",
        "    if 'title' in scraped_data['metadata']:\n",
        "        combined_content.append(f\"Title: {scraped_data['metadata']['title']}\")\n",
        "    if 'description' in scraped_data['metadata']:\n",
        "        combined_content.append(f\"Description: {scraped_data['metadata']['description']}\")\n",
        "    if 'keywords' in scraped_data['metadata']:\n",
        "        combined_content.append(f\"Keywords: {scraped_data['metadata']['keywords']}\")\n",
        "\n",
        "    # Create chunks of fixed size\n",
        "    text = \" \".join(combined_content)\n",
        "    chunks = [text[i:i + chunk_size] for i in range(0, len(text), chunk_size)]\n",
        "    return chunks\n",
        "\n",
        "# Prepare chunks for each website\n",
        "all_chunks = {}\n",
        "for url, data in website_data.items():\n",
        "    all_chunks[url] = prepare_chunks(data)\n"
      ],
      "metadata": {
        "id": "Nom320Oz8fNd"
      },
      "execution_count": 54,
      "outputs": []
    },
    {
      "cell_type": "code",
      "source": [
        "print(all_chunks)"
      ],
      "metadata": {
        "colab": {
          "base_uri": "https://localhost:8080/"
        },
        "id": "D9TBlX6I8jSK",
        "outputId": "370727da-e3d5-408a-c6a9-3f9b10908220"
      },
      "execution_count": 55,
      "outputs": [
        {
          "output_type": "stream",
          "name": "stdout",
          "text": [
            "{'https://www.washington.edu/': ['MyUW  Calendar  Directories  Libraries  UW Medicine  Maps  UW News  Helpful Links Computing/IT Workday HCM Husky Card UW Bothell UW Tacoma UW Facebook UW Twitter Students Parents Faculty & Staff Alumni AboutAbout the UWDiversityGlobal ImpactInnovationLeadershipMapsPopulation HealthSustainabilityVisit About the UW Diversity Global Impact Innovation Leadership Maps Population Health Sustainability Visit AcademicsAcademic calendarAcademic departmentsColleges and schoolsCourse descriptionsRegistrati', 'onStudent guideTime schedule Academic calendar Academic departments Colleges and schools Course descriptions Registration Student guide Time schedule ApplyAdmissionsFinancial AidContinuing educationMajorsStudent housingTransfer studentsTuition and feesUndocumented studentsUW Online Admissions Financial Aid Continuing education Majors Student housing Transfer students Tuition and fees Undocumented students UW Online News & EventsUW NewsFeatured storiesArts UWCalendarUW MagazineHusky sportsNewslet', 'ter UW News Featured stories Arts UW Calendar UW Magazine Husky sports Newsletter ResearchResearch at the UWOffice of ResearchResearch LifecycleCenters and institutesStats and rankings Research at the UW Office of Research Research Lifecycle Centers and institutes Stats and rankings CampusesBothellSeattleTacoma Bothell Seattle Tacoma GiveGive nowWays to giveMy UW Giving Give now Ways to give My UW Giving AboutAbout the UWDiversityGlobal ImpactInnovationLeadershipMapsPopulation HealthSustainabili', 'tyVisit About the UW Diversity Global Impact Innovation Leadership Maps Population Health Sustainability Visit AcademicsAcademic calendarAcademic departmentsColleges and schoolsCourse descriptionsRegistrationStudent guideTime schedule Academic calendar Academic departments Colleges and schools Course descriptions Registration Student guide Time schedule ApplyAdmissionsFinancial AidContinuing educationMajorsStudent housingTransfer studentsTuition and feesUndocumented studentsUW Online Admissions ', 'Financial Aid Continuing education Majors Student housing Transfer students Tuition and fees Undocumented students UW Online News & EventsUW NewsFeatured storiesArts UWCalendarUW MagazineHusky sportsNewsletter UW News Featured stories Arts UW Calendar UW Magazine Husky sports Newsletter ResearchResearch at the UWOffice of ResearchResearch LifecycleCenters and institutesStats and rankings Research at the UW Office of Research Research Lifecycle Centers and institutes Stats and rankings CampusesBo', 'thellSeattleTacoma Bothell Seattle Tacoma GiveGive nowWays to giveMy UW Giving Give now Ways to give My UW Giving University Of Washington Featured Story Slideshow #UWinnovates #UWinnovates Decoding theuniverse   UW astronomy undergrads are using cutting-edge coding skills to help scientists make the most of discoveries from a revolutionary new telescope. Read story #HuskyExperience #HuskyExperience Turning the tide   Chris Mantegna, ’21, is studying how pollutants affect shellfish in our food w', 'eb — and training a new generation of marine scientists. Read story #ThisIsUW #ThisIsUW Biochemist David Baker receives Nobel Prize   David Baker, professor of biochemistry at the UW School of Medicine and director of the Institute for Protein Design, has been awarded the 2024 Nobel Prize in Chemistry for computational protein design. Read story #ThisIsUW #ThisIsUW Coming home   Therapist Nocona Abrams (B.A. ’19, M.S.W. ’23) returned to Washington’s Yakima Valley to improve mental health care fo', 'r her community. Read story Be Boundless ArtsUW ArtsUW Maps Maps MyUW MyUW Athletics Athletics Social Social Libraries Libraries UW Medicine UW Medicine News & Events Ahmad Ezzeddine named UW Vice Provost for Global Affairs “Dr. Ezzeddine brings a rare combination of a broad global engagement perspective and a deep understanding of the landscape of higher education that will catalyze our own strategies to the benefit of the entire UW community,” said Provost Tricia Serio. “I’m thrilled to welcom', 'e him to UW.” Read story Huskies are bowl-bound Capping a big — and BIG TEN — year, the Huskies are headed for the Tony the Tiger Sun Bowl! Join fellow fans in cheering on our favorite Dawgs against Louisville in El Paso, TX on December 31. Bowl Central UW professor among Nobel laureates honored in Stockholm David Baker, professor of biochemistry at the UW School of Medicine in Seattle, received the 2024 Nobel Prize in Chemistry. Nobel Week wove stately traditions with imaginative recognitions. ', 'Read story Fast Facts Fast Facts Honors & Awards Undergrad research Rankings Be boundless Connect with us: Facebook Twitter Instagram YouTube LinkedIn Pinterest Accessibility Contact Us Jobs Campus Safety My UW Rules Docket Privacy Terms Newsletter © 2024 University of Washington | Seattle, WA Title:  UW Homepage  Description: University of Washington'], 'https://www.stanford.edu/': ['Students Faculty & Staff Families Visitors Alumni News Events Academics Research Health Care Campus Life Admission About Search Stanford: Other ways to search:MapProfiles Stanford Explore Stanford Main Content A Societal Mission Stanford was founded almost 150 years ago on a bedrock of societal purpose. Our mission is to contribute to the world by educating students for lives of leadership and contribution with integrity; advancing fundamental knowledge and cultivating creativity; leading in pio', 'neering research for effective clinical therapies; and accelerating solutions and amplifying their impact. Campus News Stories about people, research, and innovation across the Farm Science & Engineering A national effort seeks to advance semiconductor research Health & Medicine Five tips for keeping winter bugs at bay Health & Medicine New immunotherapy platform could increase potential to target cancer cells Science & Engineering A new report warns of serious risks from ‘mirror life’ Health & ', 'Medicine Flu virus remains infectious in refrigerated raw milk for up to five days, new study shows Science & Engineering Stanford welcomes first GPU-based supercomputer Academics Preparing students to make meaningful contributions to society as engaged citizens and leaders in a complex world Undergraduate Education Rich learning experiences that provide a broad liberal arts foundation and deep subject-area expertise Rich learning experiences that provide a broad liberal arts foundation and deep', ' subject-area expertise Undergraduate Education  Graduate Education Unsurpassed opportunities to participate in the advancement of entire fields of knowledge Unsurpassed opportunities to participate in the advancement of entire fields of knowledge Graduate education  Driving impact Continuing adult education, executive and professional programs, and programs for K-12 students Continuing adult education, executive and professional programs, and programs for K-12 students Lifelong Learning  Seven ', 'schools in which to pursue your passions Medicine Law Humanities & Sciences Engineering Education Sustainability Business Profile of Tadashi Tokieda “When I ‘decided’ to become a mathematician, it was not a decision. I could not do otherwise. You don’t decide to fall in love with somebody. It just happens.” Tadashi Tokieda Professor (Teaching) of Mathematics  Research Driving discoveries vital to our world, our health, and our intellectual life Upcoming Events Health Care Advancing human health ', 'through innovative research, education, and care Stanford Medicine Leading a worldwide revolution in precision health through biomedical research, education, and clinical enterprises Stanford Medicine  Stanford Health Care Leveraging expertise and advanced technology\\xa0 to deliver unparalleled care for each patient’s unique needs Stanford Health Care  Stanford Children’s Health The only health care network in the Bay Area – and one of the few in the country – exclusively dedicated to pediatric and', ' obstetric care Stanford Children’s Health  Profile of Yannie Tan “I think about all the projects that students throw themselves at quarter after quarter, just really expanding and stretching their minds. … Stanford allows you to experience evolutions of yourself.” Yannie Tan Class of 2024  Campus Life Building a vibrant community of creative and accomplished people from around the world Student Life A residential campus with diverse housing, exceptional dining, and over 600 student organization', 's Student Affairs  Arts & Culture A rich tradition of fostering creativity and a vibrant arts district on campus Stanford Arts  Recreation & Wellness State-of-the-art facilities and fitness programs to encourage movement and play Recreation & Wellness  Athletics Providing student-athletes the opportunity to achieve excellence both in competition and in the classroom Home of Champions Stanford’s 136 NCAA championships are the most for any university, a product of an unrivaled culture of excellenc', 'e and continued support from the campus community National Championships  Olympic Excellence The Cardinal has produced at least one medalist in every Olympics in which the U.S. has competed since 1912, totaling 335 medals from 196 medalists Medals  Multidimensional Impact Stanford student-athletes have achieved local, national, and global impact through community involvement and advocacy Athlete Stories  Admission Offering extraordinary freedom to explore, to collaborate, and to challenge yourse', 'lf Explore the possibilities of a Stanford education as you map out your college journey. We look for distinctive students who exhibit an abundance of energy and curiosity in their classes, activities, projects, research, and lives. Stanford meets the full financial need of every admitted undergrad who qualifies for assistance. More than two-thirds of undergrads receive some form of financial assistance. Generally, tuition is covered for families with incomes below $150,000. Facebook  Facebook T', \"witter  Twitter Instagram  Instagram LinkedIn  LinkedIn YouTube  YouTube iTunes U  iTunes U Schools Business Education Engineering Humanities & Sciences Law Medicine Sustainability Academics Undergraduate Majors Graduate Programs Research Research Centers A-toZ - to Libraries Health Care Stanford Health Care Stanford Children's Health Online Learning Stanford Online About Stanford Facts History Accreditation Admission Undergraduate Graduate Financial Aid Resources Campus Map Community Engagement\", \" Directory Stanford Profiles Applying Visiting Giving Careers Faculty Positions Contact Stanford Home Maps & Directions Search Stanford Emergency Info Terms of Use Privacy Copyright Trademarks Non-Discrimination Accessibility ©CopyrightStanford University.Stanford,California94305. © Copyright Stanford University Stanford,California94305. Stanford California 94305 Title: Stanford University Description: One of the world's leading research and teaching institutions. Catalyzing discovery, accelerat\", 'ing solutions, sustaining life on Earth, and preparing students for active citizenship.'], 'https://und.edu/': ['Open Menu Close Menu University of North Dakota Open Search Close Search University of North Dakota Info ForAdmitted StudentsCurrent\\xa0StudentsFamilies of Current StudentsFaculty & StaffAlumni  Admitted Students Current\\xa0Students Families of Current Students Faculty & Staff Alumni LoginsEmailBlackboardCampus ConnectionEmployee Self-ServiceHawk CentralDegree MapZoom  Email Blackboard Campus Connection Employee Self-Service Hawk Central Degree Map Zoom Directory SearchSearchSubmit Search  Submit Acad', \"emics Admissions Student Life Research Athletics Majors & Programs About Menu  University of North Dakota Academics Admissions Student Life Research Athletics Majors & Programs About Request Info Visit Apply Search  Submit Request Info Visit Apply Submit  University of North Dakota Leaders can come from anywhere, Apply Request Info Visit Majors &Programs Programs The University of North Dakota is the state's oldest and largest university. We offer\\n                           225+ highly accredite\", \"d on-campus and online degrees. Criminal Justice Explore the causes and impact of criminal behavior and prepare to play a key role\\n                                    in criminal justice. Elementary Education Immerse yourself in teaching and prepare for a rewarding career educating grades 1-8. Unmanned Aircraft Systems Operations Join a UAS ecosystem that puts you on the cutting edge of what’s next in the industry. Data Science A high-demand field, you'll drive positive business decisions with m\", 'eaningful data. Submit Undergraduate Graduate & Professional Online & Off-Campus  Aerospace & Aviation Arts & Science Business Education Engineering Medicine, Nursing & Health Leaders inAction Leaders in Our students embark on a journey to become leaders. Not just in what they say, but\\n                           what they do. Through hard work and determination, we believe in work worth doing. Kétina François Student has dream of being like the music teachers that inspired her. McKenzie Moe Onli', 'ne learning option is perfect for student living in western North Dakota. Chase Garber After facing personal challenges, a student returns to school to help others heal\\n                                    and thrive. All BelongAt UND At UND We value diverse peoples, perspectives and ideas. We take active steps to ensure a\\n                           sense of belonging and equity for all. You Are Welcome Here The University of North Dakota values, honors, and supports all members of our campus\\n   ', '                                 community. Military Friendly 1 in 7 UND students are veterans, active duty, spouses, or military dependents. Raising Awareness The Clothesline Project and Take Back the Night Rally educate and bring awareness\\n                                    to interpersonal violence. Access for All We provide qualified students with disabilities an equal opportunity to participate\\n                                    in all UND activities. We are#undproud We are #undproud Prou', 'd to be a Fighting Hawk? Use #UNDproud to be featured. Content is moderated. BestValue College Value College UND consistently ranks among the best for educational quality, affordability and career\\n                        outcomes By clicking any link on this page you are giving your consent for us\\n        to set cookies,Privacy Information. Back to Top Readyto Enroll? to Enroll? Request Information Schedule a Visit Apply Now UND.info@UND.edu 701.777.3000 Instagram Instagram Facebook Facebook You', 'Tube YouTube LinkedIn LinkedIn X X Contact UND Campus Map Events Calendar Diversity & Inclusion Explore Programs Employment Make a Gift Campus Safety (SafeUND) University of North Dakota ©2024 University of North Dakota - Grand Forks, ND - Member of ND University System © Accessibility & Website Feedback Terms of Use & Privacy Notice of Nondiscrimination Student Disclosure Information Title IX Title: UND | Grand Forks, ND | University of North Dakota']}\n"
          ]
        }
      ]
    },
    {
      "cell_type": "code",
      "source": [
        "drive_folder = '/content/drive/MyDrive/all-images'"
      ],
      "metadata": {
        "id": "UASudxvTCVPy"
      },
      "execution_count": 56,
      "outputs": []
    },
    {
      "cell_type": "code",
      "source": [
        "from urllib.request import urlretrieve\n",
        "import os\n",
        "def download_images(image_urls, output_folder=drive_folder):\n",
        "    # Create the output folder if it doesn't exist\n",
        "    if not os.path.exists(output_folder):\n",
        "        os.makedirs(output_folder)\n",
        "    for i, img_url in enumerate(image_urls):\n",
        "        try:\n",
        "            img_path = os.path.join(output_folder, f\"image_{i}.jpg\")\n",
        "            urlretrieve(img_url, img_path)\n",
        "            print(img_path)\n",
        "        except Exception as e:\n",
        "            print(f\"Failed to download {img_url}: {e}\")\n",
        "\n",
        "# Download images for each website\n",
        "for url, data in website_data.items():\n",
        "    download_images(data['images'])\n",
        "\n"
      ],
      "metadata": {
        "colab": {
          "base_uri": "https://localhost:8080/"
        },
        "id": "PaUmc3Xp95hc",
        "outputId": "7c2a015a-c6e6-430f-c51c-1f8b0ef56944"
      },
      "execution_count": 58,
      "outputs": [
        {
          "output_type": "stream",
          "name": "stdout",
          "text": [
            "/content/drive/MyDrive/all-images/image_0.jpg\n",
            "/content/drive/MyDrive/all-images/image_1.jpg\n",
            "/content/drive/MyDrive/all-images/image_2.jpg\n",
            "/content/drive/MyDrive/all-images/image_3.jpg\n",
            "/content/drive/MyDrive/all-images/image_4.jpg\n",
            "/content/drive/MyDrive/all-images/image_5.jpg\n",
            "/content/drive/MyDrive/all-images/image_0.jpg\n",
            "/content/drive/MyDrive/all-images/image_1.jpg\n",
            "/content/drive/MyDrive/all-images/image_2.jpg\n",
            "/content/drive/MyDrive/all-images/image_3.jpg\n",
            "/content/drive/MyDrive/all-images/image_4.jpg\n",
            "/content/drive/MyDrive/all-images/image_5.jpg\n",
            "/content/drive/MyDrive/all-images/image_6.jpg\n",
            "/content/drive/MyDrive/all-images/image_7.jpg\n",
            "/content/drive/MyDrive/all-images/image_8.jpg\n",
            "/content/drive/MyDrive/all-images/image_9.jpg\n",
            "/content/drive/MyDrive/all-images/image_10.jpg\n",
            "/content/drive/MyDrive/all-images/image_11.jpg\n",
            "/content/drive/MyDrive/all-images/image_12.jpg\n",
            "/content/drive/MyDrive/all-images/image_13.jpg\n",
            "/content/drive/MyDrive/all-images/image_14.jpg\n",
            "/content/drive/MyDrive/all-images/image_15.jpg\n",
            "/content/drive/MyDrive/all-images/image_16.jpg\n",
            "/content/drive/MyDrive/all-images/image_17.jpg\n",
            "/content/drive/MyDrive/all-images/image_18.jpg\n",
            "/content/drive/MyDrive/all-images/image_19.jpg\n",
            "/content/drive/MyDrive/all-images/image_20.jpg\n",
            "/content/drive/MyDrive/all-images/image_21.jpg\n",
            "/content/drive/MyDrive/all-images/image_22.jpg\n",
            "/content/drive/MyDrive/all-images/image_23.jpg\n",
            "/content/drive/MyDrive/all-images/image_24.jpg\n",
            "/content/drive/MyDrive/all-images/image_0.jpg\n",
            "/content/drive/MyDrive/all-images/image_1.jpg\n",
            "/content/drive/MyDrive/all-images/image_2.jpg\n",
            "/content/drive/MyDrive/all-images/image_3.jpg\n",
            "/content/drive/MyDrive/all-images/image_4.jpg\n",
            "/content/drive/MyDrive/all-images/image_5.jpg\n",
            "/content/drive/MyDrive/all-images/image_6.jpg\n",
            "/content/drive/MyDrive/all-images/image_7.jpg\n",
            "/content/drive/MyDrive/all-images/image_8.jpg\n",
            "/content/drive/MyDrive/all-images/image_9.jpg\n",
            "/content/drive/MyDrive/all-images/image_10.jpg\n",
            "/content/drive/MyDrive/all-images/image_11.jpg\n",
            "/content/drive/MyDrive/all-images/image_12.jpg\n"
          ]
        }
      ]
    }
  ]
}